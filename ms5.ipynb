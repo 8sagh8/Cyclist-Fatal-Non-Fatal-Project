{
 "cells": [
  {
   "cell_type": "markdown",
   "id": "e7a5392e",
   "metadata": {},
   "source": [
    "## Video Link of Presentation:  https://youtu.be/RZo2ciuevZo "
   ]
  },
  {
   "cell_type": "code",
   "execution_count": 1,
   "id": "53a68aa0",
   "metadata": {},
   "outputs": [],
   "source": [
    "import numpy as np\n",
    "import pandas as pd\n",
    "import matplotlib.pyplot as plt"
   ]
  },
  {
   "cell_type": "code",
   "execution_count": 2,
   "id": "a0beabb4",
   "metadata": {},
   "outputs": [
    {
     "data": {
      "text/html": [
       "<div>\n",
       "<style scoped>\n",
       "    .dataframe tbody tr th:only-of-type {\n",
       "        vertical-align: middle;\n",
       "    }\n",
       "\n",
       "    .dataframe tbody tr th {\n",
       "        vertical-align: top;\n",
       "    }\n",
       "\n",
       "    .dataframe thead th {\n",
       "        text-align: right;\n",
       "    }\n",
       "</style>\n",
       "<table border=\"1\" class=\"dataframe\">\n",
       "  <thead>\n",
       "    <tr style=\"text-align: right;\">\n",
       "      <th></th>\n",
       "      <th>X</th>\n",
       "      <th>Y</th>\n",
       "      <th>INDEX_</th>\n",
       "      <th>ACCNUM</th>\n",
       "      <th>YEAR</th>\n",
       "      <th>DATE</th>\n",
       "      <th>TIME</th>\n",
       "      <th>HOUR</th>\n",
       "      <th>STREET1</th>\n",
       "      <th>STREET2</th>\n",
       "      <th>...</th>\n",
       "      <th>PASSENGER</th>\n",
       "      <th>SPEEDING</th>\n",
       "      <th>AG_DRIV</th>\n",
       "      <th>REDLIGHT</th>\n",
       "      <th>ALCOHOL</th>\n",
       "      <th>DISABILITY</th>\n",
       "      <th>POLICE_DIVISION</th>\n",
       "      <th>HOOD_ID</th>\n",
       "      <th>NEIGHBOURHOOD</th>\n",
       "      <th>ObjectId</th>\n",
       "    </tr>\n",
       "  </thead>\n",
       "  <tbody>\n",
       "    <tr>\n",
       "      <th>0</th>\n",
       "      <td>-8.849469e+06</td>\n",
       "      <td>5.415628e+06</td>\n",
       "      <td>7805822</td>\n",
       "      <td>1350654</td>\n",
       "      <td>2013</td>\n",
       "      <td>2013/03/30 04:00:00+00</td>\n",
       "      <td>1214</td>\n",
       "      <td>12</td>\n",
       "      <td>JANE ST</td>\n",
       "      <td>DALRYMPLE DR</td>\n",
       "      <td>...</td>\n",
       "      <td>&lt;Null&gt;</td>\n",
       "      <td>&lt;Null&gt;</td>\n",
       "      <td>Yes</td>\n",
       "      <td>&lt;Null&gt;</td>\n",
       "      <td>&lt;Null&gt;</td>\n",
       "      <td>&lt;Null&gt;</td>\n",
       "      <td>D12</td>\n",
       "      <td>111</td>\n",
       "      <td>Rockcliffe-Smythe (111)</td>\n",
       "      <td>1</td>\n",
       "    </tr>\n",
       "    <tr>\n",
       "      <th>1</th>\n",
       "      <td>-8.838276e+06</td>\n",
       "      <td>5.411275e+06</td>\n",
       "      <td>7812849</td>\n",
       "      <td>1353734</td>\n",
       "      <td>2013</td>\n",
       "      <td>2013/04/04 04:00:00+00</td>\n",
       "      <td>2000</td>\n",
       "      <td>20</td>\n",
       "      <td>QUEEN St W</td>\n",
       "      <td>SPADINA Ave</td>\n",
       "      <td>...</td>\n",
       "      <td>Yes</td>\n",
       "      <td>&lt;Null&gt;</td>\n",
       "      <td>&lt;Null&gt;</td>\n",
       "      <td>&lt;Null&gt;</td>\n",
       "      <td>&lt;Null&gt;</td>\n",
       "      <td>&lt;Null&gt;</td>\n",
       "      <td>D52</td>\n",
       "      <td>78</td>\n",
       "      <td>Kensington-Chinatown (78)</td>\n",
       "      <td>2</td>\n",
       "    </tr>\n",
       "    <tr>\n",
       "      <th>2</th>\n",
       "      <td>-8.838276e+06</td>\n",
       "      <td>5.411275e+06</td>\n",
       "      <td>7812850</td>\n",
       "      <td>1353734</td>\n",
       "      <td>2013</td>\n",
       "      <td>2013/04/04 04:00:00+00</td>\n",
       "      <td>2000</td>\n",
       "      <td>20</td>\n",
       "      <td>QUEEN St W</td>\n",
       "      <td>SPADINA Ave</td>\n",
       "      <td>...</td>\n",
       "      <td>Yes</td>\n",
       "      <td>&lt;Null&gt;</td>\n",
       "      <td>&lt;Null&gt;</td>\n",
       "      <td>&lt;Null&gt;</td>\n",
       "      <td>&lt;Null&gt;</td>\n",
       "      <td>&lt;Null&gt;</td>\n",
       "      <td>D52</td>\n",
       "      <td>78</td>\n",
       "      <td>Kensington-Chinatown (78)</td>\n",
       "      <td>3</td>\n",
       "    </tr>\n",
       "    <tr>\n",
       "      <th>3</th>\n",
       "      <td>-8.838276e+06</td>\n",
       "      <td>5.411275e+06</td>\n",
       "      <td>7812851</td>\n",
       "      <td>1353734</td>\n",
       "      <td>2013</td>\n",
       "      <td>2013/04/04 04:00:00+00</td>\n",
       "      <td>2000</td>\n",
       "      <td>20</td>\n",
       "      <td>QUEEN St W</td>\n",
       "      <td>SPADINA Ave</td>\n",
       "      <td>...</td>\n",
       "      <td>Yes</td>\n",
       "      <td>&lt;Null&gt;</td>\n",
       "      <td>&lt;Null&gt;</td>\n",
       "      <td>&lt;Null&gt;</td>\n",
       "      <td>&lt;Null&gt;</td>\n",
       "      <td>&lt;Null&gt;</td>\n",
       "      <td>D52</td>\n",
       "      <td>78</td>\n",
       "      <td>Kensington-Chinatown (78)</td>\n",
       "      <td>4</td>\n",
       "    </tr>\n",
       "    <tr>\n",
       "      <th>4</th>\n",
       "      <td>-8.838276e+06</td>\n",
       "      <td>5.411275e+06</td>\n",
       "      <td>7812852</td>\n",
       "      <td>1353734</td>\n",
       "      <td>2013</td>\n",
       "      <td>2013/04/04 04:00:00+00</td>\n",
       "      <td>2000</td>\n",
       "      <td>20</td>\n",
       "      <td>QUEEN St W</td>\n",
       "      <td>SPADINA Ave</td>\n",
       "      <td>...</td>\n",
       "      <td>Yes</td>\n",
       "      <td>&lt;Null&gt;</td>\n",
       "      <td>&lt;Null&gt;</td>\n",
       "      <td>&lt;Null&gt;</td>\n",
       "      <td>&lt;Null&gt;</td>\n",
       "      <td>&lt;Null&gt;</td>\n",
       "      <td>D52</td>\n",
       "      <td>78</td>\n",
       "      <td>Kensington-Chinatown (78)</td>\n",
       "      <td>5</td>\n",
       "    </tr>\n",
       "  </tbody>\n",
       "</table>\n",
       "<p>5 rows × 57 columns</p>\n",
       "</div>"
      ],
      "text/plain": [
       "              X             Y   INDEX_   ACCNUM  YEAR                    DATE  \\\n",
       "0 -8.849469e+06  5.415628e+06  7805822  1350654  2013  2013/03/30 04:00:00+00   \n",
       "1 -8.838276e+06  5.411275e+06  7812849  1353734  2013  2013/04/04 04:00:00+00   \n",
       "2 -8.838276e+06  5.411275e+06  7812850  1353734  2013  2013/04/04 04:00:00+00   \n",
       "3 -8.838276e+06  5.411275e+06  7812851  1353734  2013  2013/04/04 04:00:00+00   \n",
       "4 -8.838276e+06  5.411275e+06  7812852  1353734  2013  2013/04/04 04:00:00+00   \n",
       "\n",
       "   TIME  HOUR     STREET1       STREET2  ... PASSENGER SPEEDING AG_DRIV  \\\n",
       "0  1214    12     JANE ST  DALRYMPLE DR  ...    <Null>   <Null>     Yes   \n",
       "1  2000    20  QUEEN St W   SPADINA Ave  ...       Yes   <Null>  <Null>   \n",
       "2  2000    20  QUEEN St W   SPADINA Ave  ...       Yes   <Null>  <Null>   \n",
       "3  2000    20  QUEEN St W   SPADINA Ave  ...       Yes   <Null>  <Null>   \n",
       "4  2000    20  QUEEN St W   SPADINA Ave  ...       Yes   <Null>  <Null>   \n",
       "\n",
       "  REDLIGHT ALCOHOL  DISABILITY  POLICE_DIVISION HOOD_ID  \\\n",
       "0   <Null>  <Null>      <Null>              D12     111   \n",
       "1   <Null>  <Null>      <Null>              D52      78   \n",
       "2   <Null>  <Null>      <Null>              D52      78   \n",
       "3   <Null>  <Null>      <Null>              D52      78   \n",
       "4   <Null>  <Null>      <Null>              D52      78   \n",
       "\n",
       "               NEIGHBOURHOOD ObjectId  \n",
       "0    Rockcliffe-Smythe (111)        1  \n",
       "1  Kensington-Chinatown (78)        2  \n",
       "2  Kensington-Chinatown (78)        3  \n",
       "3  Kensington-Chinatown (78)        4  \n",
       "4  Kensington-Chinatown (78)        5  \n",
       "\n",
       "[5 rows x 57 columns]"
      ]
     },
     "execution_count": 2,
     "metadata": {},
     "output_type": "execute_result"
    }
   ],
   "source": [
    "df = pd.read_csv('Cyclists.csv')\n",
    "df.head()"
   ]
  },
  {
   "cell_type": "code",
   "execution_count": 3,
   "id": "0ca89cac",
   "metadata": {},
   "outputs": [
    {
     "data": {
      "text/plain": [
       "(1779, 57)"
      ]
     },
     "execution_count": 3,
     "metadata": {},
     "output_type": "execute_result"
    }
   ],
   "source": [
    "df.shape"
   ]
  },
  {
   "cell_type": "code",
   "execution_count": 4,
   "id": "e69a7b2a",
   "metadata": {},
   "outputs": [
    {
     "data": {
      "text/html": [
       "<div>\n",
       "<style scoped>\n",
       "    .dataframe tbody tr th:only-of-type {\n",
       "        vertical-align: middle;\n",
       "    }\n",
       "\n",
       "    .dataframe tbody tr th {\n",
       "        vertical-align: top;\n",
       "    }\n",
       "\n",
       "    .dataframe thead th {\n",
       "        text-align: right;\n",
       "    }\n",
       "</style>\n",
       "<table border=\"1\" class=\"dataframe\">\n",
       "  <thead>\n",
       "    <tr style=\"text-align: right;\">\n",
       "      <th></th>\n",
       "      <th>X</th>\n",
       "      <th>Y</th>\n",
       "      <th>INDEX_</th>\n",
       "      <th>ACCNUM</th>\n",
       "      <th>YEAR</th>\n",
       "      <th>TIME</th>\n",
       "      <th>HOUR</th>\n",
       "      <th>LATITUDE</th>\n",
       "      <th>LONGITUDE</th>\n",
       "      <th>HOOD_ID</th>\n",
       "      <th>ObjectId</th>\n",
       "    </tr>\n",
       "  </thead>\n",
       "  <tbody>\n",
       "    <tr>\n",
       "      <th>count</th>\n",
       "      <td>1.779000e+03</td>\n",
       "      <td>1.779000e+03</td>\n",
       "      <td>1.779000e+03</td>\n",
       "      <td>1.779000e+03</td>\n",
       "      <td>1779.000000</td>\n",
       "      <td>1779.000000</td>\n",
       "      <td>1779.000000</td>\n",
       "      <td>1779.000000</td>\n",
       "      <td>1779.000000</td>\n",
       "      <td>1779.000000</td>\n",
       "      <td>1779.000000</td>\n",
       "    </tr>\n",
       "    <tr>\n",
       "      <th>mean</th>\n",
       "      <td>-8.837911e+06</td>\n",
       "      <td>5.417198e+06</td>\n",
       "      <td>3.625927e+07</td>\n",
       "      <td>2.348725e+09</td>\n",
       "      <td>2012.662732</td>\n",
       "      <td>1430.103991</td>\n",
       "      <td>14.021922</td>\n",
       "      <td>43.687408</td>\n",
       "      <td>-79.392301</td>\n",
       "      <td>78.014615</td>\n",
       "      <td>890.000000</td>\n",
       "    </tr>\n",
       "    <tr>\n",
       "      <th>std</th>\n",
       "      <td>8.853158e+03</td>\n",
       "      <td>7.474523e+03</td>\n",
       "      <td>3.671239e+07</td>\n",
       "      <td>3.265952e+09</td>\n",
       "      <td>4.068566</td>\n",
       "      <td>546.687769</td>\n",
       "      <td>5.464074</td>\n",
       "      <td>0.048531</td>\n",
       "      <td>0.079529</td>\n",
       "      <td>30.733145</td>\n",
       "      <td>513.697382</td>\n",
       "    </tr>\n",
       "    <tr>\n",
       "      <th>min</th>\n",
       "      <td>-8.862052e+06</td>\n",
       "      <td>5.402256e+06</td>\n",
       "      <td>3.383485e+06</td>\n",
       "      <td>5.407790e+05</td>\n",
       "      <td>2006.000000</td>\n",
       "      <td>0.000000</td>\n",
       "      <td>0.000000</td>\n",
       "      <td>43.590289</td>\n",
       "      <td>-79.609165</td>\n",
       "      <td>1.000000</td>\n",
       "      <td>1.000000</td>\n",
       "    </tr>\n",
       "    <tr>\n",
       "      <th>25%</th>\n",
       "      <td>-8.842700e+06</td>\n",
       "      <td>5.412060e+06</td>\n",
       "      <td>5.865364e+06</td>\n",
       "      <td>1.135987e+06</td>\n",
       "      <td>2009.000000</td>\n",
       "      <td>1022.000000</td>\n",
       "      <td>10.000000</td>\n",
       "      <td>43.654045</td>\n",
       "      <td>-79.435329</td>\n",
       "      <td>68.000000</td>\n",
       "      <td>445.500000</td>\n",
       "    </tr>\n",
       "    <tr>\n",
       "      <th>50%</th>\n",
       "      <td>-8.838285e+06</td>\n",
       "      <td>5.414353e+06</td>\n",
       "      <td>7.802013e+06</td>\n",
       "      <td>1.326780e+06</td>\n",
       "      <td>2013.000000</td>\n",
       "      <td>1524.000000</td>\n",
       "      <td>15.000000</td>\n",
       "      <td>43.668948</td>\n",
       "      <td>-79.395664</td>\n",
       "      <td>78.000000</td>\n",
       "      <td>890.000000</td>\n",
       "    </tr>\n",
       "    <tr>\n",
       "      <th>75%</th>\n",
       "      <td>-8.833068e+06</td>\n",
       "      <td>5.420654e+06</td>\n",
       "      <td>8.063202e+07</td>\n",
       "      <td>5.001788e+09</td>\n",
       "      <td>2016.000000</td>\n",
       "      <td>1838.000000</td>\n",
       "      <td>18.000000</td>\n",
       "      <td>43.709877</td>\n",
       "      <td>-79.348804</td>\n",
       "      <td>94.000000</td>\n",
       "      <td>1334.500000</td>\n",
       "    </tr>\n",
       "    <tr>\n",
       "      <th>max</th>\n",
       "      <td>-8.809770e+06</td>\n",
       "      <td>5.439040e+06</td>\n",
       "      <td>8.151534e+07</td>\n",
       "      <td>9.002411e+09</td>\n",
       "      <td>2020.000000</td>\n",
       "      <td>2359.000000</td>\n",
       "      <td>23.000000</td>\n",
       "      <td>43.829145</td>\n",
       "      <td>-79.139507</td>\n",
       "      <td>139.000000</td>\n",
       "      <td>1779.000000</td>\n",
       "    </tr>\n",
       "  </tbody>\n",
       "</table>\n",
       "</div>"
      ],
      "text/plain": [
       "                  X             Y        INDEX_        ACCNUM         YEAR  \\\n",
       "count  1.779000e+03  1.779000e+03  1.779000e+03  1.779000e+03  1779.000000   \n",
       "mean  -8.837911e+06  5.417198e+06  3.625927e+07  2.348725e+09  2012.662732   \n",
       "std    8.853158e+03  7.474523e+03  3.671239e+07  3.265952e+09     4.068566   \n",
       "min   -8.862052e+06  5.402256e+06  3.383485e+06  5.407790e+05  2006.000000   \n",
       "25%   -8.842700e+06  5.412060e+06  5.865364e+06  1.135987e+06  2009.000000   \n",
       "50%   -8.838285e+06  5.414353e+06  7.802013e+06  1.326780e+06  2013.000000   \n",
       "75%   -8.833068e+06  5.420654e+06  8.063202e+07  5.001788e+09  2016.000000   \n",
       "max   -8.809770e+06  5.439040e+06  8.151534e+07  9.002411e+09  2020.000000   \n",
       "\n",
       "              TIME         HOUR     LATITUDE    LONGITUDE      HOOD_ID  \\\n",
       "count  1779.000000  1779.000000  1779.000000  1779.000000  1779.000000   \n",
       "mean   1430.103991    14.021922    43.687408   -79.392301    78.014615   \n",
       "std     546.687769     5.464074     0.048531     0.079529    30.733145   \n",
       "min       0.000000     0.000000    43.590289   -79.609165     1.000000   \n",
       "25%    1022.000000    10.000000    43.654045   -79.435329    68.000000   \n",
       "50%    1524.000000    15.000000    43.668948   -79.395664    78.000000   \n",
       "75%    1838.000000    18.000000    43.709877   -79.348804    94.000000   \n",
       "max    2359.000000    23.000000    43.829145   -79.139507   139.000000   \n",
       "\n",
       "          ObjectId  \n",
       "count  1779.000000  \n",
       "mean    890.000000  \n",
       "std     513.697382  \n",
       "min       1.000000  \n",
       "25%     445.500000  \n",
       "50%     890.000000  \n",
       "75%    1334.500000  \n",
       "max    1779.000000  "
      ]
     },
     "execution_count": 4,
     "metadata": {},
     "output_type": "execute_result"
    }
   ],
   "source": [
    "df.describe()"
   ]
  },
  {
   "cell_type": "code",
   "execution_count": 5,
   "id": "273cd124",
   "metadata": {},
   "outputs": [
    {
     "name": "stdout",
     "output_type": "stream",
     "text": [
      "<class 'pandas.core.frame.DataFrame'>\n",
      "RangeIndex: 1779 entries, 0 to 1778\n",
      "Data columns (total 57 columns):\n",
      " #   Column           Non-Null Count  Dtype  \n",
      "---  ------           --------------  -----  \n",
      " 0   X                1779 non-null   float64\n",
      " 1   Y                1779 non-null   float64\n",
      " 2   INDEX_           1779 non-null   int64  \n",
      " 3   ACCNUM           1779 non-null   int64  \n",
      " 4   YEAR             1779 non-null   int64  \n",
      " 5   DATE             1779 non-null   object \n",
      " 6   TIME             1779 non-null   int64  \n",
      " 7   HOUR             1779 non-null   int64  \n",
      " 8   STREET1          1779 non-null   object \n",
      " 9   STREET2          1779 non-null   object \n",
      " 10  OFFSET           1779 non-null   object \n",
      " 11  ROAD_CLASS       1779 non-null   object \n",
      " 12  DISTRICT         1779 non-null   object \n",
      " 13  WARDNUM          1779 non-null   object \n",
      " 14  DIVISION         1779 non-null   object \n",
      " 15  LATITUDE         1779 non-null   float64\n",
      " 16  LONGITUDE        1779 non-null   float64\n",
      " 17  LOCCOORD         1779 non-null   object \n",
      " 18  ACCLOC           1779 non-null   object \n",
      " 19  TRAFFCTL         1779 non-null   object \n",
      " 20  VISIBILITY       1779 non-null   object \n",
      " 21  LIGHT            1779 non-null   object \n",
      " 22  RDSFCOND         1779 non-null   object \n",
      " 23  ACCLASS          1779 non-null   object \n",
      " 24  IMPACTYPE        1779 non-null   object \n",
      " 25  INVTYPE          1779 non-null   object \n",
      " 26  INVAGE           1779 non-null   object \n",
      " 27  INJURY           1779 non-null   object \n",
      " 28  FATAL_NO         1779 non-null   object \n",
      " 29  INITDIR          1779 non-null   object \n",
      " 30  VEHTYPE          1779 non-null   object \n",
      " 31  MANOEUVER        1779 non-null   object \n",
      " 32  DRIVACT          1779 non-null   object \n",
      " 33  DRIVCOND         1779 non-null   object \n",
      " 34  PEDTYPE          1779 non-null   object \n",
      " 35  PEDACT           1779 non-null   object \n",
      " 36  PEDCOND          1779 non-null   object \n",
      " 37  CYCLISTYPE       1779 non-null   object \n",
      " 38  CYCACT           1779 non-null   object \n",
      " 39  CYCCOND          1779 non-null   object \n",
      " 40  PEDESTRIAN       1779 non-null   object \n",
      " 41  CYCLIST          1779 non-null   object \n",
      " 42  AUTOMOBILE       1779 non-null   object \n",
      " 43  MOTORCYCLE       1779 non-null   object \n",
      " 44  TRUCK            1779 non-null   object \n",
      " 45  TRSN_CITY_VEH    1779 non-null   object \n",
      " 46  EMERG_VEH        1779 non-null   object \n",
      " 47  PASSENGER        1779 non-null   object \n",
      " 48  SPEEDING         1779 non-null   object \n",
      " 49  AG_DRIV          1779 non-null   object \n",
      " 50  REDLIGHT         1779 non-null   object \n",
      " 51  ALCOHOL          1779 non-null   object \n",
      " 52  DISABILITY       1779 non-null   object \n",
      " 53  POLICE_DIVISION  1779 non-null   object \n",
      " 54  HOOD_ID          1779 non-null   int64  \n",
      " 55  NEIGHBOURHOOD    1779 non-null   object \n",
      " 56  ObjectId         1779 non-null   int64  \n",
      "dtypes: float64(4), int64(7), object(46)\n",
      "memory usage: 792.3+ KB\n"
     ]
    }
   ],
   "source": [
    "df.info()"
   ]
  },
  {
   "cell_type": "code",
   "execution_count": 6,
   "id": "2f5ab30e",
   "metadata": {},
   "outputs": [
    {
     "data": {
      "text/plain": [
       "array([[<AxesSubplot:title={'center':'X'}>,\n",
       "        <AxesSubplot:title={'center':'Y'}>,\n",
       "        <AxesSubplot:title={'center':'INDEX_'}>],\n",
       "       [<AxesSubplot:title={'center':'ACCNUM'}>,\n",
       "        <AxesSubplot:title={'center':'YEAR'}>,\n",
       "        <AxesSubplot:title={'center':'TIME'}>],\n",
       "       [<AxesSubplot:title={'center':'HOUR'}>,\n",
       "        <AxesSubplot:title={'center':'LATITUDE'}>,\n",
       "        <AxesSubplot:title={'center':'LONGITUDE'}>],\n",
       "       [<AxesSubplot:title={'center':'HOOD_ID'}>,\n",
       "        <AxesSubplot:title={'center':'ObjectId'}>, <AxesSubplot:>]],\n",
       "      dtype=object)"
      ]
     },
     "execution_count": 6,
     "metadata": {},
     "output_type": "execute_result"
    },
    {
     "data": {
      "image/png": "[encoded data removed]",
      "text/plain": [
       "<Figure size 2160x1440 with 12 Axes>"
      ]
     },
     "metadata": {
      "needs_background": "light"
     },
     "output_type": "display_data"
    }
   ],
   "source": [
    "df.hist(bins=10, figsize=(30, 20))"
   ]
  },
  {
   "cell_type": "markdown",
   "id": "04653798",
   "metadata": {},
   "source": [
    "# ===== Clean, Filter and Edit data ====="
   ]
  },
  {
   "cell_type": "code",
   "execution_count": 8,
   "id": "8106d0d9",
   "metadata": {},
   "outputs": [],
   "source": [
    "# convert '<Null>' to 'No'\n",
    "def nullToNo(data_Frame, column_Name):\n",
    "    size = data_Frame.shape[0]\n",
    "    for i in range(size):\n",
    "        if data_Frame[column_Name][i] == '<Null>':\n",
    "            data_Frame[column_Name][i] = 'No'\n",
    "    return data_Frame\n",
    "         \n",
    "# convert '<Null>' to 'Other'\n",
    "def nullToOther(data_Frame, column_Name):\n",
    "    size = data_Frame.shape[0]\n",
    "    for i in range(size):\n",
    "        if data_Frame[column_Name][i] == '<Null>':\n",
    "            data_Frame[column_Name][i] = 'Other'\n",
    "    return data_Frame\n",
    "\n",
    "# convert '<Null>' to 'None'\n",
    "def nullToNone(data_Frame, column_Name):\n",
    "    size = data_Frame.shape[0]\n",
    "    for i in range(size):\n",
    "        if data_Frame[column_Name][i] == '<Null>':\n",
    "            data_Frame[column_Name][i] = 'None'\n",
    "    return data_Frame\n",
    "\n",
    "# convert '<Null>' to 'Unknown'\n",
    "def nullToUnknown(data_Frame, column_Name):\n",
    "    size = data_Frame.shape[0]\n",
    "    for i in range(size):\n",
    "        if data_Frame[column_Name][i] == '<Null>':\n",
    "            data_Frame[column_Name][i] = 'Unknown'\n",
    "    return data_Frame\n",
    "\n",
    "\n",
    "# convert '<Null>' to 0, Int value\n",
    "def nullToZero(data_Frame, column_Name):\n",
    "    size = data_Frame.shape[0]\n",
    "    for i in range(size):\n",
    "        if data_Frame[column_Name][i] == '<Null>':\n",
    "            data_Frame[column_Name][i] = 0\n",
    "    return data_Frame\n",
    "\n",
    "# Convert Yes to revelant field Name\n",
    "def replaceToFieldName (data_Frame, column_Name):\n",
    "    size = data_Frame.shape[0]\n",
    "    for i in range(size):\n",
    "        if not (data_Frame[column_Name][i] == '<Null>'):\n",
    "            data_Frame['ACCBYVEH'][i] = column_Name\n",
    "    return data_Frame\n",
    "\n",
    "# Add Values to Month Field\n",
    "def addMonths (data_Frame):\n",
    "    monthDict = {1: 'Jan', 2: 'Feb', 3: 'Mar', 4: 'Apr', 5: 'May', 6: 'Jun', \n",
    "                 7: 'Jul', 8: 'Aug', 9: 'Sep', 10: 'Oct', 11: 'Nov', 12: 'Dec'\n",
    "                }\n",
    "    size = data_Frame.shape[0]\n",
    "    for i in range(size):\n",
    "        if data_Frame.DATE[i].month in monthDict.keys():\n",
    "            data_Frame.MONTH[i] = monthDict[data_Frame.DATE[i].month]\n",
    "    return data_Frame\n",
    "\n",
    "# Clean DISTRICT\n",
    "def fixDistrict (data_Frame):\n",
    "    size = data_Frame.shape[0]\n",
    "    \n",
    "    for i in range(size):\n",
    "        if data_Frame.DISTRICT[i] == 'Toronto East York':\n",
    "            data_Frame.DISTRICT[i] = 'Toronto and East York'\n",
    "        elif data_Frame.DISTRICT[i] == '<Null>':\n",
    "            data_Frame.DISTRICT[i] = 'Toronto and East York'\n",
    "    return data_Frame\n",
    "\n",
    "\n",
    "# Clean LIGHT\n",
    "def fixLight (data_Frame):\n",
    "    size = data_Frame.shape[0]\n",
    "    \n",
    "    for i in range(size):\n",
    "        if data_Frame.LIGHT[i] == 'Dark, artificial':\n",
    "            data_Frame.LIGHT[i] = 'Dark'\n",
    "        elif data_Frame.LIGHT[i] == 'Dawn, artificial':\n",
    "            data_Frame.LIGHT[i] = 'Dawn'\n",
    "        elif data_Frame.LIGHT[i] == 'Daylight, artificial':\n",
    "            data_Frame.LIGHT[i] = 'Daylight'\n",
    "        elif data_Frame.LIGHT[i] == 'Dusk, artificial':\n",
    "            data_Frame.LIGHT[i] = 'Dusk'\n",
    "    return data_Frame"
   ]
  },
  {
   "cell_type": "code",
   "execution_count": 9,
   "id": "22c58273",
   "metadata": {},
   "outputs": [
    {
     "name": "stderr",
     "output_type": "stream",
     "text": [
      "C:\\Users\\maste\\AppData\\Local\\Temp/ipykernel_20276/3649611579.py:67: SettingWithCopyWarning: \n",
      "A value is trying to be set on a copy of a slice from a DataFrame\n",
      "\n",
      "See the caveats in the documentation: https://pandas.pydata.org/pandas-docs/stable/user_guide/indexing.html#returning-a-view-versus-a-copy\n",
      "  data_Frame.DISTRICT[i] = 'Toronto and East York'\n",
      "C:\\Users\\maste\\AppData\\Local\\Temp/ipykernel_20276/3649611579.py:69: SettingWithCopyWarning: \n",
      "A value is trying to be set on a copy of a slice from a DataFrame\n",
      "\n",
      "See the caveats in the documentation: https://pandas.pydata.org/pandas-docs/stable/user_guide/indexing.html#returning-a-view-versus-a-copy\n",
      "  data_Frame.DISTRICT[i] = 'Toronto and East York'\n"
     ]
    }
   ],
   "source": [
    "# Clean DATAFRAME\n",
    "df = fixDistrict(df)"
   ]
  },
  {
   "cell_type": "code",
   "execution_count": 10,
   "id": "98ca7055",
   "metadata": {},
   "outputs": [
    {
     "name": "stderr",
     "output_type": "stream",
     "text": [
      "C:\\Users\\maste\\AppData\\Local\\Temp/ipykernel_20276/3649611579.py:85: SettingWithCopyWarning: \n",
      "A value is trying to be set on a copy of a slice from a DataFrame\n",
      "\n",
      "See the caveats in the documentation: https://pandas.pydata.org/pandas-docs/stable/user_guide/indexing.html#returning-a-view-versus-a-copy\n",
      "  data_Frame.LIGHT[i] = 'Dusk'\n",
      "C:\\Users\\maste\\AppData\\Local\\Temp/ipykernel_20276/3649611579.py:79: SettingWithCopyWarning: \n",
      "A value is trying to be set on a copy of a slice from a DataFrame\n",
      "\n",
      "See the caveats in the documentation: https://pandas.pydata.org/pandas-docs/stable/user_guide/indexing.html#returning-a-view-versus-a-copy\n",
      "  data_Frame.LIGHT[i] = 'Dark'\n",
      "C:\\Users\\maste\\AppData\\Local\\Temp/ipykernel_20276/3649611579.py:81: SettingWithCopyWarning: \n",
      "A value is trying to be set on a copy of a slice from a DataFrame\n",
      "\n",
      "See the caveats in the documentation: https://pandas.pydata.org/pandas-docs/stable/user_guide/indexing.html#returning-a-view-versus-a-copy\n",
      "  data_Frame.LIGHT[i] = 'Dawn'\n",
      "C:\\Users\\maste\\AppData\\Local\\Temp/ipykernel_20276/3649611579.py:83: SettingWithCopyWarning: \n",
      "A value is trying to be set on a copy of a slice from a DataFrame\n",
      "\n",
      "See the caveats in the documentation: https://pandas.pydata.org/pandas-docs/stable/user_guide/indexing.html#returning-a-view-versus-a-copy\n",
      "  data_Frame.LIGHT[i] = 'Daylight'\n"
     ]
    }
   ],
   "source": [
    "# Fix LIGHT\n",
    "df = fixLight(df)"
   ]
  },
  {
   "cell_type": "code",
   "execution_count": 11,
   "id": "9784e081",
   "metadata": {},
   "outputs": [
    {
     "name": "stdout",
     "output_type": "stream",
     "text": [
      "<class 'str'>\n",
      "<class 'pandas._libs.tslibs.timestamps.Timestamp'>\n"
     ]
    }
   ],
   "source": [
    "#convert string to datetime\n",
    "\n",
    "print(type(df.DATE[0]))\n",
    "df.DATE = pd.to_datetime(df.DATE)\n",
    "print(type(df.DATE[0]))"
   ]
  },
  {
   "cell_type": "code",
   "execution_count": 12,
   "id": "0699d88e",
   "metadata": {},
   "outputs": [
    {
     "name": "stderr",
     "output_type": "stream",
     "text": [
      "C:\\Users\\maste\\AppData\\Local\\Temp/ipykernel_20276/3649611579.py:58: SettingWithCopyWarning: \n",
      "A value is trying to be set on a copy of a slice from a DataFrame\n",
      "\n",
      "See the caveats in the documentation: https://pandas.pydata.org/pandas-docs/stable/user_guide/indexing.html#returning-a-view-versus-a-copy\n",
      "  data_Frame.MONTH[i] = monthDict[data_Frame.DATE[i].month]\n"
     ]
    },
    {
     "data": {
      "text/html": [
       "<div>\n",
       "<style scoped>\n",
       "    .dataframe tbody tr th:only-of-type {\n",
       "        vertical-align: middle;\n",
       "    }\n",
       "\n",
       "    .dataframe tbody tr th {\n",
       "        vertical-align: top;\n",
       "    }\n",
       "\n",
       "    .dataframe thead th {\n",
       "        text-align: right;\n",
       "    }\n",
       "</style>\n",
       "<table border=\"1\" class=\"dataframe\">\n",
       "  <thead>\n",
       "    <tr style=\"text-align: right;\">\n",
       "      <th></th>\n",
       "      <th>X</th>\n",
       "      <th>Y</th>\n",
       "      <th>INDEX_</th>\n",
       "      <th>ACCNUM</th>\n",
       "      <th>YEAR</th>\n",
       "      <th>DATE</th>\n",
       "      <th>TIME</th>\n",
       "      <th>HOUR</th>\n",
       "      <th>STREET1</th>\n",
       "      <th>STREET2</th>\n",
       "      <th>...</th>\n",
       "      <th>SPEEDING</th>\n",
       "      <th>AG_DRIV</th>\n",
       "      <th>REDLIGHT</th>\n",
       "      <th>ALCOHOL</th>\n",
       "      <th>DISABILITY</th>\n",
       "      <th>POLICE_DIVISION</th>\n",
       "      <th>HOOD_ID</th>\n",
       "      <th>NEIGHBOURHOOD</th>\n",
       "      <th>ObjectId</th>\n",
       "      <th>MONTH</th>\n",
       "    </tr>\n",
       "  </thead>\n",
       "  <tbody>\n",
       "    <tr>\n",
       "      <th>0</th>\n",
       "      <td>-8.849469e+06</td>\n",
       "      <td>5.415628e+06</td>\n",
       "      <td>7805822</td>\n",
       "      <td>1350654</td>\n",
       "      <td>2013</td>\n",
       "      <td>2013-03-30 04:00:00+00:00</td>\n",
       "      <td>1214</td>\n",
       "      <td>12</td>\n",
       "      <td>JANE ST</td>\n",
       "      <td>DALRYMPLE DR</td>\n",
       "      <td>...</td>\n",
       "      <td>&lt;Null&gt;</td>\n",
       "      <td>Yes</td>\n",
       "      <td>&lt;Null&gt;</td>\n",
       "      <td>&lt;Null&gt;</td>\n",
       "      <td>&lt;Null&gt;</td>\n",
       "      <td>D12</td>\n",
       "      <td>111</td>\n",
       "      <td>Rockcliffe-Smythe (111)</td>\n",
       "      <td>1</td>\n",
       "      <td>Mar</td>\n",
       "    </tr>\n",
       "    <tr>\n",
       "      <th>1</th>\n",
       "      <td>-8.838276e+06</td>\n",
       "      <td>5.411275e+06</td>\n",
       "      <td>7812849</td>\n",
       "      <td>1353734</td>\n",
       "      <td>2013</td>\n",
       "      <td>2013-04-04 04:00:00+00:00</td>\n",
       "      <td>2000</td>\n",
       "      <td>20</td>\n",
       "      <td>QUEEN St W</td>\n",
       "      <td>SPADINA Ave</td>\n",
       "      <td>...</td>\n",
       "      <td>&lt;Null&gt;</td>\n",
       "      <td>&lt;Null&gt;</td>\n",
       "      <td>&lt;Null&gt;</td>\n",
       "      <td>&lt;Null&gt;</td>\n",
       "      <td>&lt;Null&gt;</td>\n",
       "      <td>D52</td>\n",
       "      <td>78</td>\n",
       "      <td>Kensington-Chinatown (78)</td>\n",
       "      <td>2</td>\n",
       "      <td>Apr</td>\n",
       "    </tr>\n",
       "    <tr>\n",
       "      <th>2</th>\n",
       "      <td>-8.838276e+06</td>\n",
       "      <td>5.411275e+06</td>\n",
       "      <td>7812850</td>\n",
       "      <td>1353734</td>\n",
       "      <td>2013</td>\n",
       "      <td>2013-04-04 04:00:00+00:00</td>\n",
       "      <td>2000</td>\n",
       "      <td>20</td>\n",
       "      <td>QUEEN St W</td>\n",
       "      <td>SPADINA Ave</td>\n",
       "      <td>...</td>\n",
       "      <td>&lt;Null&gt;</td>\n",
       "      <td>&lt;Null&gt;</td>\n",
       "      <td>&lt;Null&gt;</td>\n",
       "      <td>&lt;Null&gt;</td>\n",
       "      <td>&lt;Null&gt;</td>\n",
       "      <td>D52</td>\n",
       "      <td>78</td>\n",
       "      <td>Kensington-Chinatown (78)</td>\n",
       "      <td>3</td>\n",
       "      <td>Apr</td>\n",
       "    </tr>\n",
       "    <tr>\n",
       "      <th>3</th>\n",
       "      <td>-8.838276e+06</td>\n",
       "      <td>5.411275e+06</td>\n",
       "      <td>7812851</td>\n",
       "      <td>1353734</td>\n",
       "      <td>2013</td>\n",
       "      <td>2013-04-04 04:00:00+00:00</td>\n",
       "      <td>2000</td>\n",
       "      <td>20</td>\n",
       "      <td>QUEEN St W</td>\n",
       "      <td>SPADINA Ave</td>\n",
       "      <td>...</td>\n",
       "      <td>&lt;Null&gt;</td>\n",
       "      <td>&lt;Null&gt;</td>\n",
       "      <td>&lt;Null&gt;</td>\n",
       "      <td>&lt;Null&gt;</td>\n",
       "      <td>&lt;Null&gt;</td>\n",
       "      <td>D52</td>\n",
       "      <td>78</td>\n",
       "      <td>Kensington-Chinatown (78)</td>\n",
       "      <td>4</td>\n",
       "      <td>Apr</td>\n",
       "    </tr>\n",
       "    <tr>\n",
       "      <th>4</th>\n",
       "      <td>-8.838276e+06</td>\n",
       "      <td>5.411275e+06</td>\n",
       "      <td>7812852</td>\n",
       "      <td>1353734</td>\n",
       "      <td>2013</td>\n",
       "      <td>2013-04-04 04:00:00+00:00</td>\n",
       "      <td>2000</td>\n",
       "      <td>20</td>\n",
       "      <td>QUEEN St W</td>\n",
       "      <td>SPADINA Ave</td>\n",
       "      <td>...</td>\n",
       "      <td>&lt;Null&gt;</td>\n",
       "      <td>&lt;Null&gt;</td>\n",
       "      <td>&lt;Null&gt;</td>\n",
       "      <td>&lt;Null&gt;</td>\n",
       "      <td>&lt;Null&gt;</td>\n",
       "      <td>D52</td>\n",
       "      <td>78</td>\n",
       "      <td>Kensington-Chinatown (78)</td>\n",
       "      <td>5</td>\n",
       "      <td>Apr</td>\n",
       "    </tr>\n",
       "    <tr>\n",
       "      <th>...</th>\n",
       "      <td>...</td>\n",
       "      <td>...</td>\n",
       "      <td>...</td>\n",
       "      <td>...</td>\n",
       "      <td>...</td>\n",
       "      <td>...</td>\n",
       "      <td>...</td>\n",
       "      <td>...</td>\n",
       "      <td>...</td>\n",
       "      <td>...</td>\n",
       "      <td>...</td>\n",
       "      <td>...</td>\n",
       "      <td>...</td>\n",
       "      <td>...</td>\n",
       "      <td>...</td>\n",
       "      <td>...</td>\n",
       "      <td>...</td>\n",
       "      <td>...</td>\n",
       "      <td>...</td>\n",
       "      <td>...</td>\n",
       "      <td>...</td>\n",
       "    </tr>\n",
       "    <tr>\n",
       "      <th>1774</th>\n",
       "      <td>-8.852566e+06</td>\n",
       "      <td>5.419712e+06</td>\n",
       "      <td>80951003</td>\n",
       "      <td>8001574808</td>\n",
       "      <td>2018</td>\n",
       "      <td>2018-08-25 04:00:00+00:00</td>\n",
       "      <td>2300</td>\n",
       "      <td>23</td>\n",
       "      <td>CHURCH ST</td>\n",
       "      <td>CROSS ST</td>\n",
       "      <td>...</td>\n",
       "      <td>&lt;Null&gt;</td>\n",
       "      <td>&lt;Null&gt;</td>\n",
       "      <td>&lt;Null&gt;</td>\n",
       "      <td>&lt;Null&gt;</td>\n",
       "      <td>&lt;Null&gt;</td>\n",
       "      <td>D12</td>\n",
       "      <td>113</td>\n",
       "      <td>Weston (113)</td>\n",
       "      <td>1775</td>\n",
       "      <td>Aug</td>\n",
       "    </tr>\n",
       "    <tr>\n",
       "      <th>1775</th>\n",
       "      <td>-8.845371e+06</td>\n",
       "      <td>5.423861e+06</td>\n",
       "      <td>80951038</td>\n",
       "      <td>8001650785</td>\n",
       "      <td>2018</td>\n",
       "      <td>2018-09-06 04:00:00+00:00</td>\n",
       "      <td>1310</td>\n",
       "      <td>13</td>\n",
       "      <td>ANTHONY RD</td>\n",
       "      <td>NAJIB ABBOUD LANE</td>\n",
       "      <td>...</td>\n",
       "      <td>&lt;Null&gt;</td>\n",
       "      <td>&lt;Null&gt;</td>\n",
       "      <td>&lt;Null&gt;</td>\n",
       "      <td>&lt;Null&gt;</td>\n",
       "      <td>&lt;Null&gt;</td>\n",
       "      <td>D32</td>\n",
       "      <td>26</td>\n",
       "      <td>Downsview-Roding-CFB (26)</td>\n",
       "      <td>1776</td>\n",
       "      <td>Sep</td>\n",
       "    </tr>\n",
       "    <tr>\n",
       "      <th>1776</th>\n",
       "      <td>-8.845371e+06</td>\n",
       "      <td>5.423861e+06</td>\n",
       "      <td>80951039</td>\n",
       "      <td>8001650785</td>\n",
       "      <td>2018</td>\n",
       "      <td>2018-09-06 04:00:00+00:00</td>\n",
       "      <td>1310</td>\n",
       "      <td>13</td>\n",
       "      <td>ANTHONY RD</td>\n",
       "      <td>NAJIB ABBOUD LANE</td>\n",
       "      <td>...</td>\n",
       "      <td>&lt;Null&gt;</td>\n",
       "      <td>&lt;Null&gt;</td>\n",
       "      <td>&lt;Null&gt;</td>\n",
       "      <td>&lt;Null&gt;</td>\n",
       "      <td>&lt;Null&gt;</td>\n",
       "      <td>D32</td>\n",
       "      <td>26</td>\n",
       "      <td>Downsview-Roding-CFB (26)</td>\n",
       "      <td>1777</td>\n",
       "      <td>Sep</td>\n",
       "    </tr>\n",
       "    <tr>\n",
       "      <th>1777</th>\n",
       "      <td>-8.845371e+06</td>\n",
       "      <td>5.423861e+06</td>\n",
       "      <td>80951040</td>\n",
       "      <td>8001650785</td>\n",
       "      <td>2018</td>\n",
       "      <td>2018-09-06 04:00:00+00:00</td>\n",
       "      <td>1310</td>\n",
       "      <td>13</td>\n",
       "      <td>ANTHONY RD</td>\n",
       "      <td>NAJIB ABBOUD LANE</td>\n",
       "      <td>...</td>\n",
       "      <td>&lt;Null&gt;</td>\n",
       "      <td>&lt;Null&gt;</td>\n",
       "      <td>&lt;Null&gt;</td>\n",
       "      <td>&lt;Null&gt;</td>\n",
       "      <td>&lt;Null&gt;</td>\n",
       "      <td>D32</td>\n",
       "      <td>26</td>\n",
       "      <td>Downsview-Roding-CFB (26)</td>\n",
       "      <td>1778</td>\n",
       "      <td>Sep</td>\n",
       "    </tr>\n",
       "    <tr>\n",
       "      <th>1778</th>\n",
       "      <td>-8.823412e+06</td>\n",
       "      <td>5.437636e+06</td>\n",
       "      <td>80950662</td>\n",
       "      <td>8001679287</td>\n",
       "      <td>2018</td>\n",
       "      <td>2018-09-10 04:00:00+00:00</td>\n",
       "      <td>1957</td>\n",
       "      <td>19</td>\n",
       "      <td>MIDDLEFIELD RD</td>\n",
       "      <td>MCNICOLL AVE</td>\n",
       "      <td>...</td>\n",
       "      <td>&lt;Null&gt;</td>\n",
       "      <td>&lt;Null&gt;</td>\n",
       "      <td>&lt;Null&gt;</td>\n",
       "      <td>&lt;Null&gt;</td>\n",
       "      <td>&lt;Null&gt;</td>\n",
       "      <td>D42</td>\n",
       "      <td>130</td>\n",
       "      <td>Milliken (130)</td>\n",
       "      <td>1779</td>\n",
       "      <td>Sep</td>\n",
       "    </tr>\n",
       "  </tbody>\n",
       "</table>\n",
       "<p>1779 rows × 58 columns</p>\n",
       "</div>"
      ],
      "text/plain": [
       "                 X             Y    INDEX_      ACCNUM  YEAR  \\\n",
       "0    -8.849469e+06  5.415628e+06   7805822     1350654  2013   \n",
       "1    -8.838276e+06  5.411275e+06   7812849     1353734  2013   \n",
       "2    -8.838276e+06  5.411275e+06   7812850     1353734  2013   \n",
       "3    -8.838276e+06  5.411275e+06   7812851     1353734  2013   \n",
       "4    -8.838276e+06  5.411275e+06   7812852     1353734  2013   \n",
       "...            ...           ...       ...         ...   ...   \n",
       "1774 -8.852566e+06  5.419712e+06  80951003  8001574808  2018   \n",
       "1775 -8.845371e+06  5.423861e+06  80951038  8001650785  2018   \n",
       "1776 -8.845371e+06  5.423861e+06  80951039  8001650785  2018   \n",
       "1777 -8.845371e+06  5.423861e+06  80951040  8001650785  2018   \n",
       "1778 -8.823412e+06  5.437636e+06  80950662  8001679287  2018   \n",
       "\n",
       "                          DATE  TIME  HOUR         STREET1            STREET2  \\\n",
       "0    2013-03-30 04:00:00+00:00  1214    12         JANE ST       DALRYMPLE DR   \n",
       "1    2013-04-04 04:00:00+00:00  2000    20      QUEEN St W        SPADINA Ave   \n",
       "2    2013-04-04 04:00:00+00:00  2000    20      QUEEN St W        SPADINA Ave   \n",
       "3    2013-04-04 04:00:00+00:00  2000    20      QUEEN St W        SPADINA Ave   \n",
       "4    2013-04-04 04:00:00+00:00  2000    20      QUEEN St W        SPADINA Ave   \n",
       "...                        ...   ...   ...             ...                ...   \n",
       "1774 2018-08-25 04:00:00+00:00  2300    23       CHURCH ST           CROSS ST   \n",
       "1775 2018-09-06 04:00:00+00:00  1310    13      ANTHONY RD  NAJIB ABBOUD LANE   \n",
       "1776 2018-09-06 04:00:00+00:00  1310    13      ANTHONY RD  NAJIB ABBOUD LANE   \n",
       "1777 2018-09-06 04:00:00+00:00  1310    13      ANTHONY RD  NAJIB ABBOUD LANE   \n",
       "1778 2018-09-10 04:00:00+00:00  1957    19  MIDDLEFIELD RD       MCNICOLL AVE   \n",
       "\n",
       "      ... SPEEDING AG_DRIV REDLIGHT ALCOHOL DISABILITY  POLICE_DIVISION  \\\n",
       "0     ...   <Null>     Yes   <Null>  <Null>     <Null>              D12   \n",
       "1     ...   <Null>  <Null>   <Null>  <Null>     <Null>              D52   \n",
       "2     ...   <Null>  <Null>   <Null>  <Null>     <Null>              D52   \n",
       "3     ...   <Null>  <Null>   <Null>  <Null>     <Null>              D52   \n",
       "4     ...   <Null>  <Null>   <Null>  <Null>     <Null>              D52   \n",
       "...   ...      ...     ...      ...     ...        ...              ...   \n",
       "1774  ...   <Null>  <Null>   <Null>  <Null>     <Null>              D12   \n",
       "1775  ...   <Null>  <Null>   <Null>  <Null>     <Null>              D32   \n",
       "1776  ...   <Null>  <Null>   <Null>  <Null>     <Null>              D32   \n",
       "1777  ...   <Null>  <Null>   <Null>  <Null>     <Null>              D32   \n",
       "1778  ...   <Null>  <Null>   <Null>  <Null>     <Null>              D42   \n",
       "\n",
       "      HOOD_ID              NEIGHBOURHOOD ObjectId MONTH  \n",
       "0         111    Rockcliffe-Smythe (111)        1   Mar  \n",
       "1          78  Kensington-Chinatown (78)        2   Apr  \n",
       "2          78  Kensington-Chinatown (78)        3   Apr  \n",
       "3          78  Kensington-Chinatown (78)        4   Apr  \n",
       "4          78  Kensington-Chinatown (78)        5   Apr  \n",
       "...       ...                        ...      ...   ...  \n",
       "1774      113               Weston (113)     1775   Aug  \n",
       "1775       26  Downsview-Roding-CFB (26)     1776   Sep  \n",
       "1776       26  Downsview-Roding-CFB (26)     1777   Sep  \n",
       "1777       26  Downsview-Roding-CFB (26)     1778   Sep  \n",
       "1778      130             Milliken (130)     1779   Sep  \n",
       "\n",
       "[1779 rows x 58 columns]"
      ]
     },
     "execution_count": 12,
     "metadata": {},
     "output_type": "execute_result"
    }
   ],
   "source": [
    "# INSERT new field MONTH\n",
    "df['MONTH'] = '<Null>'\n",
    "df = addMonths(df)\n",
    "df"
   ]
  },
  {
   "cell_type": "code",
   "execution_count": 13,
   "id": "625bc862",
   "metadata": {},
   "outputs": [
    {
     "name": "stderr",
     "output_type": "stream",
     "text": [
      "C:\\Users\\maste\\AppData\\Local\\Temp/ipykernel_20276/3649611579.py:6: SettingWithCopyWarning: \n",
      "A value is trying to be set on a copy of a slice from a DataFrame\n",
      "\n",
      "See the caveats in the documentation: https://pandas.pydata.org/pandas-docs/stable/user_guide/indexing.html#returning-a-view-versus-a-copy\n",
      "  data_Frame[column_Name][i] = 'No'\n"
     ]
    }
   ],
   "source": [
    "# col: PEDESTRIAN => Convert '<Null>' to 'No'\n",
    "df = nullToNo(df, 'PEDESTRIAN')"
   ]
  },
  {
   "cell_type": "code",
   "execution_count": 14,
   "id": "8cd4c6ae",
   "metadata": {},
   "outputs": [],
   "source": [
    "# Create New Field 'data_Frame['ACCBYVEH']'\n",
    "df['ACCBYVEH'] = '<Null>'"
   ]
  },
  {
   "cell_type": "code",
   "execution_count": 15,
   "id": "d265eceb",
   "metadata": {},
   "outputs": [
    {
     "name": "stderr",
     "output_type": "stream",
     "text": [
      "C:\\Users\\maste\\AppData\\Local\\Temp/ipykernel_20276/3649611579.py:47: SettingWithCopyWarning: \n",
      "A value is trying to be set on a copy of a slice from a DataFrame\n",
      "\n",
      "See the caveats in the documentation: https://pandas.pydata.org/pandas-docs/stable/user_guide/indexing.html#returning-a-view-versus-a-copy\n",
      "  data_Frame['ACCBYVEH'][i] = column_Name\n",
      "C:\\Users\\maste\\AppData\\Local\\Temp/ipykernel_20276/3649611579.py:6: SettingWithCopyWarning: \n",
      "A value is trying to be set on a copy of a slice from a DataFrame\n",
      "\n",
      "See the caveats in the documentation: https://pandas.pydata.org/pandas-docs/stable/user_guide/indexing.html#returning-a-view-versus-a-copy\n",
      "  data_Frame[column_Name][i] = 'No'\n"
     ]
    }
   ],
   "source": [
    "# copy values from AUTOMOBILE into 'ACCBYVEH'\n",
    "df = replaceToFieldName(df, 'AUTOMOBILE')\n",
    "\n",
    "# col: AUTOMOBILE => Convert '<Null>' to 'No'\n",
    "df = nullToNo(df, 'AUTOMOBILE')"
   ]
  },
  {
   "cell_type": "code",
   "execution_count": 16,
   "id": "eb713bec",
   "metadata": {},
   "outputs": [
    {
     "name": "stderr",
     "output_type": "stream",
     "text": [
      "C:\\Users\\maste\\AppData\\Local\\Temp/ipykernel_20276/3649611579.py:47: SettingWithCopyWarning: \n",
      "A value is trying to be set on a copy of a slice from a DataFrame\n",
      "\n",
      "See the caveats in the documentation: https://pandas.pydata.org/pandas-docs/stable/user_guide/indexing.html#returning-a-view-versus-a-copy\n",
      "  data_Frame['ACCBYVEH'][i] = column_Name\n",
      "C:\\Users\\maste\\AppData\\Local\\Temp/ipykernel_20276/3649611579.py:6: SettingWithCopyWarning: \n",
      "A value is trying to be set on a copy of a slice from a DataFrame\n",
      "\n",
      "See the caveats in the documentation: https://pandas.pydata.org/pandas-docs/stable/user_guide/indexing.html#returning-a-view-versus-a-copy\n",
      "  data_Frame[column_Name][i] = 'No'\n"
     ]
    }
   ],
   "source": [
    "# copy values from MOTORCYCLE into 'ACCBYVEH'\n",
    "df = replaceToFieldName(df, 'MOTORCYCLE')\n",
    "# col: MOTORCYCLE => Convert '<Null>' to 'No'\n",
    "df = nullToNo(df, 'MOTORCYCLE')"
   ]
  },
  {
   "cell_type": "code",
   "execution_count": 17,
   "id": "94ee6de4",
   "metadata": {},
   "outputs": [
    {
     "name": "stderr",
     "output_type": "stream",
     "text": [
      "C:\\Users\\maste\\AppData\\Local\\Temp/ipykernel_20276/3649611579.py:47: SettingWithCopyWarning: \n",
      "A value is trying to be set on a copy of a slice from a DataFrame\n",
      "\n",
      "See the caveats in the documentation: https://pandas.pydata.org/pandas-docs/stable/user_guide/indexing.html#returning-a-view-versus-a-copy\n",
      "  data_Frame['ACCBYVEH'][i] = column_Name\n",
      "C:\\Users\\maste\\AppData\\Local\\Temp/ipykernel_20276/3649611579.py:6: SettingWithCopyWarning: \n",
      "A value is trying to be set on a copy of a slice from a DataFrame\n",
      "\n",
      "See the caveats in the documentation: https://pandas.pydata.org/pandas-docs/stable/user_guide/indexing.html#returning-a-view-versus-a-copy\n",
      "  data_Frame[column_Name][i] = 'No'\n"
     ]
    }
   ],
   "source": [
    "# copy values from TRUCK into 'ACCBYVEH'\n",
    "df = replaceToFieldName(df, 'TRUCK')\n",
    "# col: TRUCK => Convert '<Null>' to 'No'\n",
    "df = nullToNo(df, 'TRUCK')"
   ]
  },
  {
   "cell_type": "code",
   "execution_count": 18,
   "id": "08b2fc8b",
   "metadata": {},
   "outputs": [
    {
     "name": "stderr",
     "output_type": "stream",
     "text": [
      "C:\\Users\\maste\\AppData\\Local\\Temp/ipykernel_20276/3649611579.py:47: SettingWithCopyWarning: \n",
      "A value is trying to be set on a copy of a slice from a DataFrame\n",
      "\n",
      "See the caveats in the documentation: https://pandas.pydata.org/pandas-docs/stable/user_guide/indexing.html#returning-a-view-versus-a-copy\n",
      "  data_Frame['ACCBYVEH'][i] = column_Name\n",
      "C:\\Users\\maste\\AppData\\Local\\Temp/ipykernel_20276/3649611579.py:6: SettingWithCopyWarning: \n",
      "A value is trying to be set on a copy of a slice from a DataFrame\n",
      "\n",
      "See the caveats in the documentation: https://pandas.pydata.org/pandas-docs/stable/user_guide/indexing.html#returning-a-view-versus-a-copy\n",
      "  data_Frame[column_Name][i] = 'No'\n"
     ]
    }
   ],
   "source": [
    "# copy values from TRSN_CITY_VEH into 'ACCBYVEH'\n",
    "df = replaceToFieldName(df, 'TRSN_CITY_VEH')\n",
    "\n",
    "# col: TRNS_CITY_VEH => Convert '<Null>' to 'No'\n",
    "df = nullToNo(df, 'TRSN_CITY_VEH')"
   ]
  },
  {
   "cell_type": "code",
   "execution_count": 19,
   "id": "295f7870",
   "metadata": {},
   "outputs": [
    {
     "name": "stderr",
     "output_type": "stream",
     "text": [
      "C:\\Users\\maste\\AppData\\Local\\Temp/ipykernel_20276/3649611579.py:47: SettingWithCopyWarning: \n",
      "A value is trying to be set on a copy of a slice from a DataFrame\n",
      "\n",
      "See the caveats in the documentation: https://pandas.pydata.org/pandas-docs/stable/user_guide/indexing.html#returning-a-view-versus-a-copy\n",
      "  data_Frame['ACCBYVEH'][i] = column_Name\n",
      "C:\\Users\\maste\\AppData\\Local\\Temp/ipykernel_20276/3649611579.py:6: SettingWithCopyWarning: \n",
      "A value is trying to be set on a copy of a slice from a DataFrame\n",
      "\n",
      "See the caveats in the documentation: https://pandas.pydata.org/pandas-docs/stable/user_guide/indexing.html#returning-a-view-versus-a-copy\n",
      "  data_Frame[column_Name][i] = 'No'\n"
     ]
    }
   ],
   "source": [
    "# copy values from EMERG_VEH into 'ACCBYVEH'\n",
    "df = replaceToFieldName(df, 'EMERG_VEH')\n",
    "\n",
    "# col: EMERG_VEH => Convert '<Null>' to 'No'\n",
    "df = nullToNo(df, 'EMERG_VEH')"
   ]
  },
  {
   "cell_type": "code",
   "execution_count": 20,
   "id": "f7c44565",
   "metadata": {},
   "outputs": [
    {
     "name": "stderr",
     "output_type": "stream",
     "text": [
      "C:\\Users\\maste\\AppData\\Local\\Temp/ipykernel_20276/3649611579.py:6: SettingWithCopyWarning: \n",
      "A value is trying to be set on a copy of a slice from a DataFrame\n",
      "\n",
      "See the caveats in the documentation: https://pandas.pydata.org/pandas-docs/stable/user_guide/indexing.html#returning-a-view-versus-a-copy\n",
      "  data_Frame[column_Name][i] = 'No'\n"
     ]
    }
   ],
   "source": [
    "# col: PASSENGER=> Convert '<Null>' to 'No'\n",
    "df = nullToNo(df, 'PASSENGER')"
   ]
  },
  {
   "cell_type": "code",
   "execution_count": 21,
   "id": "bbd6305d",
   "metadata": {},
   "outputs": [
    {
     "name": "stderr",
     "output_type": "stream",
     "text": [
      "C:\\Users\\maste\\AppData\\Local\\Temp/ipykernel_20276/3649611579.py:6: SettingWithCopyWarning: \n",
      "A value is trying to be set on a copy of a slice from a DataFrame\n",
      "\n",
      "See the caveats in the documentation: https://pandas.pydata.org/pandas-docs/stable/user_guide/indexing.html#returning-a-view-versus-a-copy\n",
      "  data_Frame[column_Name][i] = 'No'\n"
     ]
    }
   ],
   "source": [
    "# col: SPEEDING => Convert '<Null>' to 'No'\n",
    "df = nullToNo(df, 'SPEEDING')"
   ]
  },
  {
   "cell_type": "code",
   "execution_count": 22,
   "id": "c718452c",
   "metadata": {},
   "outputs": [
    {
     "name": "stderr",
     "output_type": "stream",
     "text": [
      "C:\\Users\\maste\\AppData\\Local\\Temp/ipykernel_20276/3649611579.py:6: SettingWithCopyWarning: \n",
      "A value is trying to be set on a copy of a slice from a DataFrame\n",
      "\n",
      "See the caveats in the documentation: https://pandas.pydata.org/pandas-docs/stable/user_guide/indexing.html#returning-a-view-versus-a-copy\n",
      "  data_Frame[column_Name][i] = 'No'\n"
     ]
    }
   ],
   "source": [
    "# col: AG_DRIV => Convert '<Null>' to 'No'\n",
    "df = nullToNo(df, 'AG_DRIV')"
   ]
  },
  {
   "cell_type": "code",
   "execution_count": 23,
   "id": "343a9542",
   "metadata": {},
   "outputs": [
    {
     "name": "stderr",
     "output_type": "stream",
     "text": [
      "C:\\Users\\maste\\AppData\\Local\\Temp/ipykernel_20276/3649611579.py:6: SettingWithCopyWarning: \n",
      "A value is trying to be set on a copy of a slice from a DataFrame\n",
      "\n",
      "See the caveats in the documentation: https://pandas.pydata.org/pandas-docs/stable/user_guide/indexing.html#returning-a-view-versus-a-copy\n",
      "  data_Frame[column_Name][i] = 'No'\n"
     ]
    }
   ],
   "source": [
    "# col: REDLIGHT => Convert '<Null>' to 'No'\n",
    "df = nullToNo(df, 'REDLIGHT')"
   ]
  },
  {
   "cell_type": "code",
   "execution_count": 24,
   "id": "31fa11ad",
   "metadata": {},
   "outputs": [
    {
     "name": "stderr",
     "output_type": "stream",
     "text": [
      "C:\\Users\\maste\\AppData\\Local\\Temp/ipykernel_20276/3649611579.py:6: SettingWithCopyWarning: \n",
      "A value is trying to be set on a copy of a slice from a DataFrame\n",
      "\n",
      "See the caveats in the documentation: https://pandas.pydata.org/pandas-docs/stable/user_guide/indexing.html#returning-a-view-versus-a-copy\n",
      "  data_Frame[column_Name][i] = 'No'\n"
     ]
    }
   ],
   "source": [
    "# col: ALCOHOL => Convert '<Null>' to 'No'\n",
    "df = nullToNo(df, 'ALCOHOL')"
   ]
  },
  {
   "cell_type": "code",
   "execution_count": 25,
   "id": "61ef6223",
   "metadata": {},
   "outputs": [
    {
     "name": "stderr",
     "output_type": "stream",
     "text": [
      "C:\\Users\\maste\\AppData\\Local\\Temp/ipykernel_20276/3649611579.py:6: SettingWithCopyWarning: \n",
      "A value is trying to be set on a copy of a slice from a DataFrame\n",
      "\n",
      "See the caveats in the documentation: https://pandas.pydata.org/pandas-docs/stable/user_guide/indexing.html#returning-a-view-versus-a-copy\n",
      "  data_Frame[column_Name][i] = 'No'\n"
     ]
    }
   ],
   "source": [
    "# col: DISABILITY => Convert '<Null>' to 'No'\n",
    "df = nullToNo(df, 'DISABILITY')"
   ]
  },
  {
   "cell_type": "code",
   "execution_count": 26,
   "id": "0920917c",
   "metadata": {},
   "outputs": [],
   "source": [
    "# col: DISTRICT => Convert '<Null>' to 'Other'\n",
    "df = nullToOther(df, 'DISTRICT')"
   ]
  },
  {
   "cell_type": "code",
   "execution_count": 27,
   "id": "78fb8cae",
   "metadata": {},
   "outputs": [
    {
     "name": "stderr",
     "output_type": "stream",
     "text": [
      "C:\\Users\\maste\\AppData\\Local\\Temp/ipykernel_20276/3649611579.py:14: SettingWithCopyWarning: \n",
      "A value is trying to be set on a copy of a slice from a DataFrame\n",
      "\n",
      "See the caveats in the documentation: https://pandas.pydata.org/pandas-docs/stable/user_guide/indexing.html#returning-a-view-versus-a-copy\n",
      "  data_Frame[column_Name][i] = 'Other'\n"
     ]
    }
   ],
   "source": [
    "# col: ACCLOC => Convert '<Null>' to 'Other'\n",
    "df = nullToOther(df, 'ACCLOC')"
   ]
  },
  {
   "cell_type": "code",
   "execution_count": 28,
   "id": "91dea1f9",
   "metadata": {},
   "outputs": [
    {
     "name": "stderr",
     "output_type": "stream",
     "text": [
      "C:\\Users\\maste\\AppData\\Local\\Temp/ipykernel_20276/3649611579.py:14: SettingWithCopyWarning: \n",
      "A value is trying to be set on a copy of a slice from a DataFrame\n",
      "\n",
      "See the caveats in the documentation: https://pandas.pydata.org/pandas-docs/stable/user_guide/indexing.html#returning-a-view-versus-a-copy\n",
      "  data_Frame[column_Name][i] = 'Other'\n"
     ]
    }
   ],
   "source": [
    "# col: INVTYPE => Convert '<Null>' to 'Other'\n",
    "df = nullToOther(df, 'INVTYPE')"
   ]
  },
  {
   "cell_type": "code",
   "execution_count": 29,
   "id": "e68d0a19",
   "metadata": {},
   "outputs": [
    {
     "name": "stderr",
     "output_type": "stream",
     "text": [
      "C:\\Users\\maste\\AppData\\Local\\Temp/ipykernel_20276/3649611579.py:22: SettingWithCopyWarning: \n",
      "A value is trying to be set on a copy of a slice from a DataFrame\n",
      "\n",
      "See the caveats in the documentation: https://pandas.pydata.org/pandas-docs/stable/user_guide/indexing.html#returning-a-view-versus-a-copy\n",
      "  data_Frame[column_Name][i] = 'None'\n"
     ]
    }
   ],
   "source": [
    "# col: INJURY => Convert '<Null>' to 'None'\n",
    "df = nullToNone(df, 'INJURY')"
   ]
  },
  {
   "cell_type": "code",
   "execution_count": 30,
   "id": "456eaf0d",
   "metadata": {},
   "outputs": [
    {
     "name": "stderr",
     "output_type": "stream",
     "text": [
      "C:\\Users\\maste\\AppData\\Local\\Temp/ipykernel_20276/3649611579.py:6: SettingWithCopyWarning: \n",
      "A value is trying to be set on a copy of a slice from a DataFrame\n",
      "\n",
      "See the caveats in the documentation: https://pandas.pydata.org/pandas-docs/stable/user_guide/indexing.html#returning-a-view-versus-a-copy\n",
      "  data_Frame[column_Name][i] = 'No'\n"
     ]
    }
   ],
   "source": [
    "# col: FATAL_NO => Convert '<Null>' to 0\n",
    "df = nullToNo(df, 'FATAL_NO')"
   ]
  },
  {
   "cell_type": "code",
   "execution_count": 31,
   "id": "8cc67820",
   "metadata": {},
   "outputs": [
    {
     "name": "stderr",
     "output_type": "stream",
     "text": [
      "C:\\Users\\maste\\AppData\\Local\\Temp/ipykernel_20276/3649611579.py:6: SettingWithCopyWarning: \n",
      "A value is trying to be set on a copy of a slice from a DataFrame\n",
      "\n",
      "See the caveats in the documentation: https://pandas.pydata.org/pandas-docs/stable/user_guide/indexing.html#returning-a-view-versus-a-copy\n",
      "  data_Frame[column_Name][i] = 'No'\n"
     ]
    }
   ],
   "source": [
    "# col: VEHTYPE => Convert '<Null>' to 'No'\n",
    "df = nullToNo(df, 'VEHTYPE')"
   ]
  },
  {
   "cell_type": "code",
   "execution_count": 32,
   "id": "545e9c8d",
   "metadata": {},
   "outputs": [
    {
     "name": "stderr",
     "output_type": "stream",
     "text": [
      "C:\\Users\\maste\\AppData\\Local\\Temp/ipykernel_20276/3649611579.py:14: SettingWithCopyWarning: \n",
      "A value is trying to be set on a copy of a slice from a DataFrame\n",
      "\n",
      "See the caveats in the documentation: https://pandas.pydata.org/pandas-docs/stable/user_guide/indexing.html#returning-a-view-versus-a-copy\n",
      "  data_Frame[column_Name][i] = 'Other'\n"
     ]
    }
   ],
   "source": [
    "# col: MANOEUVER => Convert '<Null>' to 'Other'\n",
    "df = nullToOther(df, 'MANOEUVER')"
   ]
  },
  {
   "cell_type": "code",
   "execution_count": 33,
   "id": "1da01a24",
   "metadata": {},
   "outputs": [
    {
     "name": "stderr",
     "output_type": "stream",
     "text": [
      "C:\\Users\\maste\\AppData\\Local\\Temp/ipykernel_20276/3649611579.py:14: SettingWithCopyWarning: \n",
      "A value is trying to be set on a copy of a slice from a DataFrame\n",
      "\n",
      "See the caveats in the documentation: https://pandas.pydata.org/pandas-docs/stable/user_guide/indexing.html#returning-a-view-versus-a-copy\n",
      "  data_Frame[column_Name][i] = 'Other'\n"
     ]
    }
   ],
   "source": [
    "# col: DRIVACT => Convert '<Null>' to 'Other'\n",
    "df = nullToOther(df, 'DRIVACT')"
   ]
  },
  {
   "cell_type": "code",
   "execution_count": 34,
   "id": "1fd4a406",
   "metadata": {},
   "outputs": [
    {
     "name": "stderr",
     "output_type": "stream",
     "text": [
      "C:\\Users\\maste\\AppData\\Local\\Temp/ipykernel_20276/3649611579.py:30: SettingWithCopyWarning: \n",
      "A value is trying to be set on a copy of a slice from a DataFrame\n",
      "\n",
      "See the caveats in the documentation: https://pandas.pydata.org/pandas-docs/stable/user_guide/indexing.html#returning-a-view-versus-a-copy\n",
      "  data_Frame[column_Name][i] = 'Unknown'\n"
     ]
    }
   ],
   "source": [
    "# col: DRIVCOND => Convert '<Null>' to 'Other'\n",
    "df = nullToUnknown(df, 'DRIVCOND')"
   ]
  },
  {
   "cell_type": "code",
   "execution_count": 35,
   "id": "0cdeb441",
   "metadata": {},
   "outputs": [
    {
     "name": "stderr",
     "output_type": "stream",
     "text": [
      "C:\\Users\\maste\\AppData\\Local\\Temp/ipykernel_20276/3649611579.py:30: SettingWithCopyWarning: \n",
      "A value is trying to be set on a copy of a slice from a DataFrame\n",
      "\n",
      "See the caveats in the documentation: https://pandas.pydata.org/pandas-docs/stable/user_guide/indexing.html#returning-a-view-versus-a-copy\n",
      "  data_Frame[column_Name][i] = 'Unknown'\n"
     ]
    }
   ],
   "source": [
    "# col: CYCLISTYPE => Convert '<Null>' to 'Unknown'\n",
    "df = nullToUnknown(df, 'CYCLISTYPE')"
   ]
  },
  {
   "cell_type": "code",
   "execution_count": 36,
   "id": "5ef742af",
   "metadata": {},
   "outputs": [
    {
     "name": "stderr",
     "output_type": "stream",
     "text": [
      "C:\\Users\\maste\\AppData\\Local\\Temp/ipykernel_20276/3649611579.py:30: SettingWithCopyWarning: \n",
      "A value is trying to be set on a copy of a slice from a DataFrame\n",
      "\n",
      "See the caveats in the documentation: https://pandas.pydata.org/pandas-docs/stable/user_guide/indexing.html#returning-a-view-versus-a-copy\n",
      "  data_Frame[column_Name][i] = 'Unknown'\n"
     ]
    }
   ],
   "source": [
    "# col: CYCACT => Convert '<Null>' to 'Unknown'\n",
    "df = nullToUnknown(df, 'CYCACT')"
   ]
  },
  {
   "cell_type": "code",
   "execution_count": 37,
   "id": "da1efae4",
   "metadata": {},
   "outputs": [
    {
     "name": "stderr",
     "output_type": "stream",
     "text": [
      "C:\\Users\\maste\\AppData\\Local\\Temp/ipykernel_20276/3649611579.py:30: SettingWithCopyWarning: \n",
      "A value is trying to be set on a copy of a slice from a DataFrame\n",
      "\n",
      "See the caveats in the documentation: https://pandas.pydata.org/pandas-docs/stable/user_guide/indexing.html#returning-a-view-versus-a-copy\n",
      "  data_Frame[column_Name][i] = 'Unknown'\n"
     ]
    }
   ],
   "source": [
    "# col: CYCCOND => Convert '<Null>' to 'Unknown'\n",
    "df = nullToUnknown(df, 'CYCCOND')"
   ]
  },
  {
   "cell_type": "markdown",
   "id": "df4a0a1e",
   "metadata": {},
   "source": [
    "# ===== Converting Categorical Values ====="
   ]
  },
  {
   "cell_type": "code",
   "execution_count": 40,
   "id": "d7cb5049",
   "metadata": {},
   "outputs": [],
   "source": [
    "# create a copy for safeside\n",
    "df2 = df.copy()"
   ]
  },
  {
   "cell_type": "code",
   "execution_count": 41,
   "id": "bdc70a3e",
   "metadata": {},
   "outputs": [],
   "source": [
    "from sklearn.preprocessing import LabelEncoder\n",
    "le = LabelEncoder()"
   ]
  },
  {
   "cell_type": "code",
   "execution_count": 42,
   "id": "1988c9d8",
   "metadata": {},
   "outputs": [],
   "source": [
    "df.PEDESTRIAN = le.fit_transform(df.PEDESTRIAN)"
   ]
  },
  {
   "cell_type": "code",
   "execution_count": 43,
   "id": "bb911eac",
   "metadata": {},
   "outputs": [],
   "source": [
    "df.AUTOMOBILE = le.fit_transform(df.AUTOMOBILE)"
   ]
  },
  {
   "cell_type": "code",
   "execution_count": 44,
   "id": "858b878a",
   "metadata": {},
   "outputs": [],
   "source": [
    "df.MOTORCYCLE = le.fit_transform(df.MOTORCYCLE)"
   ]
  },
  {
   "cell_type": "code",
   "execution_count": 45,
   "id": "7ade72fb",
   "metadata": {},
   "outputs": [],
   "source": [
    "df.TRUCK = le.fit_transform(df.TRUCK)"
   ]
  },
  {
   "cell_type": "code",
   "execution_count": 46,
   "id": "b2d9f2d5",
   "metadata": {},
   "outputs": [],
   "source": [
    "df.TRSN_CITY_VEH = le.fit_transform(df.TRSN_CITY_VEH)"
   ]
  },
  {
   "cell_type": "code",
   "execution_count": 47,
   "id": "4c835dd6",
   "metadata": {},
   "outputs": [],
   "source": [
    "df.EMERG_VEH = le.fit_transform(df.EMERG_VEH)"
   ]
  },
  {
   "cell_type": "code",
   "execution_count": 48,
   "id": "7d671205",
   "metadata": {},
   "outputs": [],
   "source": [
    "# Label Encoder\n",
    "# ['AUTOMOBILE' == 1, 'MOTORCYCLE' == 3, 'TRUCK' == 5, 'TRSN_CITY_VEH' == 4, 'EMERG_VEH' == 2]\n",
    "\n",
    "df.ACCBYVEH = le.fit_transform(df.ACCBYVEH)"
   ]
  },
  {
   "cell_type": "code",
   "execution_count": 50,
   "id": "3bf80c9a",
   "metadata": {},
   "outputs": [],
   "source": [
    "df.PASSENGER = le.fit_transform(df.PASSENGER)"
   ]
  },
  {
   "cell_type": "code",
   "execution_count": 51,
   "id": "346bdaed",
   "metadata": {},
   "outputs": [],
   "source": [
    "df.SPEEDING = le.fit_transform(df.SPEEDING)"
   ]
  },
  {
   "cell_type": "code",
   "execution_count": 52,
   "id": "f9c194ce",
   "metadata": {},
   "outputs": [],
   "source": [
    "df.AG_DRIV = le.fit_transform(df.AG_DRIV)"
   ]
  },
  {
   "cell_type": "code",
   "execution_count": 53,
   "id": "6af6dac3",
   "metadata": {},
   "outputs": [],
   "source": [
    "df.REDLIGHT = le.fit_transform(df.REDLIGHT)"
   ]
  },
  {
   "cell_type": "code",
   "execution_count": 54,
   "id": "e36bc3d9",
   "metadata": {},
   "outputs": [],
   "source": [
    "# Yes = 1, No = 0\n",
    "\n",
    "df.ALCOHOL = le.fit_transform(df.ALCOHOL)"
   ]
  },
  {
   "cell_type": "code",
   "execution_count": 55,
   "id": "c2e03db5",
   "metadata": {},
   "outputs": [],
   "source": [
    "df.DISABILITY = le.fit_transform(df.DISABILITY)"
   ]
  },
  {
   "cell_type": "code",
   "execution_count": 56,
   "id": "ea7226c2",
   "metadata": {},
   "outputs": [],
   "source": [
    "# 'Major' == 1 || 'None' == 4 || 'Minor' == 3 || 'Minimal' == 2 || 'Fatal' == 0 \n",
    "df.INJURY = le.fit_transform(df.INJURY)"
   ]
  },
  {
   "cell_type": "code",
   "execution_count": 57,
   "id": "3ff5e155",
   "metadata": {},
   "outputs": [],
   "source": [
    "df.DRIVACT = le.fit_transform(df.DRIVACT)"
   ]
  },
  {
   "cell_type": "code",
   "execution_count": 58,
   "id": "c048e085",
   "metadata": {},
   "outputs": [],
   "source": [
    "# 'Dry' == 0 || 'Wet' == 3 || 'Loose Snow' == 1 || 'Other' == 2\n",
    "df.RDSFCOND = le.fit_transform(df.RDSFCOND)"
   ]
  },
  {
   "cell_type": "code",
   "execution_count": 59,
   "id": "1ec90727",
   "metadata": {},
   "outputs": [],
   "source": [
    "# 'Daylight' == 2 || 'Dusk' == 3 || 'Dark' == 0 || 'Dawn' == 1\n",
    "df.LIGHT = le.fit_transform(df.LIGHT)"
   ]
  },
  {
   "cell_type": "code",
   "execution_count": 60,
   "id": "9ea6b52b",
   "metadata": {},
   "outputs": [],
   "source": [
    "# 'Etobicoke York' == 0 || 'Toronto and East York' == 3 || 'Scarborough' == 2 || 'North York' == 1\n",
    "df.DISTRICT = le.fit_transform(df.DISTRICT)"
   ]
  },
  {
   "cell_type": "code",
   "execution_count": 61,
   "id": "5fa70e2b",
   "metadata": {},
   "outputs": [],
   "source": [
    "# 'Non-Fatal Injury' == 1 || 'Fatal' == 0\n",
    "df.ACCLASS = le.fit_transform(df.ACCLASS)"
   ]
  },
  {
   "cell_type": "code",
   "execution_count": 62,
   "id": "015797e4",
   "metadata": {},
   "outputs": [
    {
     "data": {
      "text/html": [
       "<div>\n",
       "<style scoped>\n",
       "    .dataframe tbody tr th:only-of-type {\n",
       "        vertical-align: middle;\n",
       "    }\n",
       "\n",
       "    .dataframe tbody tr th {\n",
       "        vertical-align: top;\n",
       "    }\n",
       "\n",
       "    .dataframe thead th {\n",
       "        text-align: right;\n",
       "    }\n",
       "</style>\n",
       "<table border=\"1\" class=\"dataframe\">\n",
       "  <thead>\n",
       "    <tr style=\"text-align: right;\">\n",
       "      <th></th>\n",
       "      <th>X</th>\n",
       "      <th>Y</th>\n",
       "      <th>INDEX_</th>\n",
       "      <th>ACCNUM</th>\n",
       "      <th>YEAR</th>\n",
       "      <th>TIME</th>\n",
       "      <th>HOUR</th>\n",
       "      <th>DISTRICT</th>\n",
       "      <th>LATITUDE</th>\n",
       "      <th>LONGITUDE</th>\n",
       "      <th>...</th>\n",
       "      <th>EMERG_VEH</th>\n",
       "      <th>PASSENGER</th>\n",
       "      <th>SPEEDING</th>\n",
       "      <th>AG_DRIV</th>\n",
       "      <th>REDLIGHT</th>\n",
       "      <th>ALCOHOL</th>\n",
       "      <th>DISABILITY</th>\n",
       "      <th>HOOD_ID</th>\n",
       "      <th>ObjectId</th>\n",
       "      <th>ACCBYVEH</th>\n",
       "    </tr>\n",
       "  </thead>\n",
       "  <tbody>\n",
       "    <tr>\n",
       "      <th>count</th>\n",
       "      <td>1.779000e+03</td>\n",
       "      <td>1.779000e+03</td>\n",
       "      <td>1.779000e+03</td>\n",
       "      <td>1.779000e+03</td>\n",
       "      <td>1779.000000</td>\n",
       "      <td>1779.000000</td>\n",
       "      <td>1779.000000</td>\n",
       "      <td>1779.000000</td>\n",
       "      <td>1779.000000</td>\n",
       "      <td>1779.000000</td>\n",
       "      <td>...</td>\n",
       "      <td>1779.000000</td>\n",
       "      <td>1779.000000</td>\n",
       "      <td>1779.000000</td>\n",
       "      <td>1779.000000</td>\n",
       "      <td>1779.000000</td>\n",
       "      <td>1779.000000</td>\n",
       "      <td>1779.0</td>\n",
       "      <td>1779.000000</td>\n",
       "      <td>1779.000000</td>\n",
       "      <td>1779.000000</td>\n",
       "    </tr>\n",
       "    <tr>\n",
       "      <th>mean</th>\n",
       "      <td>-8.837911e+06</td>\n",
       "      <td>5.417198e+06</td>\n",
       "      <td>3.625927e+07</td>\n",
       "      <td>2.348725e+09</td>\n",
       "      <td>2012.662732</td>\n",
       "      <td>1430.103991</td>\n",
       "      <td>14.021922</td>\n",
       "      <td>2.261945</td>\n",
       "      <td>43.687408</td>\n",
       "      <td>-79.392301</td>\n",
       "      <td>...</td>\n",
       "      <td>0.002811</td>\n",
       "      <td>0.143901</td>\n",
       "      <td>0.029792</td>\n",
       "      <td>0.360877</td>\n",
       "      <td>0.031478</td>\n",
       "      <td>0.011804</td>\n",
       "      <td>0.0</td>\n",
       "      <td>78.014615</td>\n",
       "      <td>890.000000</td>\n",
       "      <td>1.370995</td>\n",
       "    </tr>\n",
       "    <tr>\n",
       "      <th>std</th>\n",
       "      <td>8.853158e+03</td>\n",
       "      <td>7.474523e+03</td>\n",
       "      <td>3.671239e+07</td>\n",
       "      <td>3.265952e+09</td>\n",
       "      <td>4.068566</td>\n",
       "      <td>546.687769</td>\n",
       "      <td>5.464074</td>\n",
       "      <td>1.080540</td>\n",
       "      <td>0.048531</td>\n",
       "      <td>0.079529</td>\n",
       "      <td>...</td>\n",
       "      <td>0.052955</td>\n",
       "      <td>0.351088</td>\n",
       "      <td>0.170061</td>\n",
       "      <td>0.480390</td>\n",
       "      <td>0.174656</td>\n",
       "      <td>0.108035</td>\n",
       "      <td>0.0</td>\n",
       "      <td>30.733145</td>\n",
       "      <td>513.697382</td>\n",
       "      <td>1.197378</td>\n",
       "    </tr>\n",
       "    <tr>\n",
       "      <th>min</th>\n",
       "      <td>-8.862052e+06</td>\n",
       "      <td>5.402256e+06</td>\n",
       "      <td>3.383485e+06</td>\n",
       "      <td>5.407790e+05</td>\n",
       "      <td>2006.000000</td>\n",
       "      <td>0.000000</td>\n",
       "      <td>0.000000</td>\n",
       "      <td>0.000000</td>\n",
       "      <td>43.590289</td>\n",
       "      <td>-79.609165</td>\n",
       "      <td>...</td>\n",
       "      <td>0.000000</td>\n",
       "      <td>0.000000</td>\n",
       "      <td>0.000000</td>\n",
       "      <td>0.000000</td>\n",
       "      <td>0.000000</td>\n",
       "      <td>0.000000</td>\n",
       "      <td>0.0</td>\n",
       "      <td>1.000000</td>\n",
       "      <td>1.000000</td>\n",
       "      <td>0.000000</td>\n",
       "    </tr>\n",
       "    <tr>\n",
       "      <th>25%</th>\n",
       "      <td>-8.842700e+06</td>\n",
       "      <td>5.412060e+06</td>\n",
       "      <td>5.865364e+06</td>\n",
       "      <td>1.135987e+06</td>\n",
       "      <td>2009.000000</td>\n",
       "      <td>1022.000000</td>\n",
       "      <td>10.000000</td>\n",
       "      <td>2.000000</td>\n",
       "      <td>43.654045</td>\n",
       "      <td>-79.435329</td>\n",
       "      <td>...</td>\n",
       "      <td>0.000000</td>\n",
       "      <td>0.000000</td>\n",
       "      <td>0.000000</td>\n",
       "      <td>0.000000</td>\n",
       "      <td>0.000000</td>\n",
       "      <td>0.000000</td>\n",
       "      <td>0.0</td>\n",
       "      <td>68.000000</td>\n",
       "      <td>445.500000</td>\n",
       "      <td>1.000000</td>\n",
       "    </tr>\n",
       "    <tr>\n",
       "      <th>50%</th>\n",
       "      <td>-8.838285e+06</td>\n",
       "      <td>5.414353e+06</td>\n",
       "      <td>7.802013e+06</td>\n",
       "      <td>1.326780e+06</td>\n",
       "      <td>2013.000000</td>\n",
       "      <td>1524.000000</td>\n",
       "      <td>15.000000</td>\n",
       "      <td>3.000000</td>\n",
       "      <td>43.668948</td>\n",
       "      <td>-79.395664</td>\n",
       "      <td>...</td>\n",
       "      <td>0.000000</td>\n",
       "      <td>0.000000</td>\n",
       "      <td>0.000000</td>\n",
       "      <td>0.000000</td>\n",
       "      <td>0.000000</td>\n",
       "      <td>0.000000</td>\n",
       "      <td>0.0</td>\n",
       "      <td>78.000000</td>\n",
       "      <td>890.000000</td>\n",
       "      <td>1.000000</td>\n",
       "    </tr>\n",
       "    <tr>\n",
       "      <th>75%</th>\n",
       "      <td>-8.833068e+06</td>\n",
       "      <td>5.420654e+06</td>\n",
       "      <td>8.063202e+07</td>\n",
       "      <td>5.001788e+09</td>\n",
       "      <td>2016.000000</td>\n",
       "      <td>1838.000000</td>\n",
       "      <td>18.000000</td>\n",
       "      <td>3.000000</td>\n",
       "      <td>43.709877</td>\n",
       "      <td>-79.348804</td>\n",
       "      <td>...</td>\n",
       "      <td>0.000000</td>\n",
       "      <td>0.000000</td>\n",
       "      <td>0.000000</td>\n",
       "      <td>1.000000</td>\n",
       "      <td>0.000000</td>\n",
       "      <td>0.000000</td>\n",
       "      <td>0.0</td>\n",
       "      <td>94.000000</td>\n",
       "      <td>1334.500000</td>\n",
       "      <td>1.000000</td>\n",
       "    </tr>\n",
       "    <tr>\n",
       "      <th>max</th>\n",
       "      <td>-8.809770e+06</td>\n",
       "      <td>5.439040e+06</td>\n",
       "      <td>8.151534e+07</td>\n",
       "      <td>9.002411e+09</td>\n",
       "      <td>2020.000000</td>\n",
       "      <td>2359.000000</td>\n",
       "      <td>23.000000</td>\n",
       "      <td>3.000000</td>\n",
       "      <td>43.829145</td>\n",
       "      <td>-79.139507</td>\n",
       "      <td>...</td>\n",
       "      <td>1.000000</td>\n",
       "      <td>1.000000</td>\n",
       "      <td>1.000000</td>\n",
       "      <td>1.000000</td>\n",
       "      <td>1.000000</td>\n",
       "      <td>1.000000</td>\n",
       "      <td>0.0</td>\n",
       "      <td>139.000000</td>\n",
       "      <td>1779.000000</td>\n",
       "      <td>5.000000</td>\n",
       "    </tr>\n",
       "  </tbody>\n",
       "</table>\n",
       "<p>8 rows × 30 columns</p>\n",
       "</div>"
      ],
      "text/plain": [
       "                  X             Y        INDEX_        ACCNUM         YEAR  \\\n",
       "count  1.779000e+03  1.779000e+03  1.779000e+03  1.779000e+03  1779.000000   \n",
       "mean  -8.837911e+06  5.417198e+06  3.625927e+07  2.348725e+09  2012.662732   \n",
       "std    8.853158e+03  7.474523e+03  3.671239e+07  3.265952e+09     4.068566   \n",
       "min   -8.862052e+06  5.402256e+06  3.383485e+06  5.407790e+05  2006.000000   \n",
       "25%   -8.842700e+06  5.412060e+06  5.865364e+06  1.135987e+06  2009.000000   \n",
       "50%   -8.838285e+06  5.414353e+06  7.802013e+06  1.326780e+06  2013.000000   \n",
       "75%   -8.833068e+06  5.420654e+06  8.063202e+07  5.001788e+09  2016.000000   \n",
       "max   -8.809770e+06  5.439040e+06  8.151534e+07  9.002411e+09  2020.000000   \n",
       "\n",
       "              TIME         HOUR     DISTRICT     LATITUDE    LONGITUDE  ...  \\\n",
       "count  1779.000000  1779.000000  1779.000000  1779.000000  1779.000000  ...   \n",
       "mean   1430.103991    14.021922     2.261945    43.687408   -79.392301  ...   \n",
       "std     546.687769     5.464074     1.080540     0.048531     0.079529  ...   \n",
       "min       0.000000     0.000000     0.000000    43.590289   -79.609165  ...   \n",
       "25%    1022.000000    10.000000     2.000000    43.654045   -79.435329  ...   \n",
       "50%    1524.000000    15.000000     3.000000    43.668948   -79.395664  ...   \n",
       "75%    1838.000000    18.000000     3.000000    43.709877   -79.348804  ...   \n",
       "max    2359.000000    23.000000     3.000000    43.829145   -79.139507  ...   \n",
       "\n",
       "         EMERG_VEH    PASSENGER     SPEEDING      AG_DRIV     REDLIGHT  \\\n",
       "count  1779.000000  1779.000000  1779.000000  1779.000000  1779.000000   \n",
       "mean      0.002811     0.143901     0.029792     0.360877     0.031478   \n",
       "std       0.052955     0.351088     0.170061     0.480390     0.174656   \n",
       "min       0.000000     0.000000     0.000000     0.000000     0.000000   \n",
       "25%       0.000000     0.000000     0.000000     0.000000     0.000000   \n",
       "50%       0.000000     0.000000     0.000000     0.000000     0.000000   \n",
       "75%       0.000000     0.000000     0.000000     1.000000     0.000000   \n",
       "max       1.000000     1.000000     1.000000     1.000000     1.000000   \n",
       "\n",
       "           ALCOHOL  DISABILITY      HOOD_ID     ObjectId     ACCBYVEH  \n",
       "count  1779.000000      1779.0  1779.000000  1779.000000  1779.000000  \n",
       "mean      0.011804         0.0    78.014615   890.000000     1.370995  \n",
       "std       0.108035         0.0    30.733145   513.697382     1.197378  \n",
       "min       0.000000         0.0     1.000000     1.000000     0.000000  \n",
       "25%       0.000000         0.0    68.000000   445.500000     1.000000  \n",
       "50%       0.000000         0.0    78.000000   890.000000     1.000000  \n",
       "75%       0.000000         0.0    94.000000  1334.500000     1.000000  \n",
       "max       1.000000         0.0   139.000000  1779.000000     5.000000  \n",
       "\n",
       "[8 rows x 30 columns]"
      ]
     },
     "execution_count": 62,
     "metadata": {},
     "output_type": "execute_result"
    }
   ],
   "source": [
    "df.describe()"
   ]
  },
  {
   "cell_type": "code",
   "execution_count": 63,
   "id": "b3f78755",
   "metadata": {},
   "outputs": [
    {
     "data": {
      "text/html": [
       "<div>\n",
       "<style scoped>\n",
       "    .dataframe tbody tr th:only-of-type {\n",
       "        vertical-align: middle;\n",
       "    }\n",
       "\n",
       "    .dataframe tbody tr th {\n",
       "        vertical-align: top;\n",
       "    }\n",
       "\n",
       "    .dataframe thead th {\n",
       "        text-align: right;\n",
       "    }\n",
       "</style>\n",
       "<table border=\"1\" class=\"dataframe\">\n",
       "  <thead>\n",
       "    <tr style=\"text-align: right;\">\n",
       "      <th></th>\n",
       "      <th>X</th>\n",
       "      <th>Y</th>\n",
       "      <th>INDEX_</th>\n",
       "      <th>ACCNUM</th>\n",
       "      <th>YEAR</th>\n",
       "      <th>DATE</th>\n",
       "      <th>TIME</th>\n",
       "      <th>HOUR</th>\n",
       "      <th>STREET1</th>\n",
       "      <th>STREET2</th>\n",
       "      <th>...</th>\n",
       "      <th>AG_DRIV</th>\n",
       "      <th>REDLIGHT</th>\n",
       "      <th>ALCOHOL</th>\n",
       "      <th>DISABILITY</th>\n",
       "      <th>POLICE_DIVISION</th>\n",
       "      <th>HOOD_ID</th>\n",
       "      <th>NEIGHBOURHOOD</th>\n",
       "      <th>ObjectId</th>\n",
       "      <th>MONTH</th>\n",
       "      <th>ACCBYVEH</th>\n",
       "    </tr>\n",
       "  </thead>\n",
       "  <tbody>\n",
       "    <tr>\n",
       "      <th>0</th>\n",
       "      <td>-8.849469e+06</td>\n",
       "      <td>5.415628e+06</td>\n",
       "      <td>7805822</td>\n",
       "      <td>1350654</td>\n",
       "      <td>2013</td>\n",
       "      <td>2013-03-30 04:00:00+00:00</td>\n",
       "      <td>1214</td>\n",
       "      <td>12</td>\n",
       "      <td>JANE ST</td>\n",
       "      <td>DALRYMPLE DR</td>\n",
       "      <td>...</td>\n",
       "      <td>1</td>\n",
       "      <td>0</td>\n",
       "      <td>0</td>\n",
       "      <td>0</td>\n",
       "      <td>D12</td>\n",
       "      <td>111</td>\n",
       "      <td>Rockcliffe-Smythe (111)</td>\n",
       "      <td>1</td>\n",
       "      <td>Mar</td>\n",
       "      <td>1</td>\n",
       "    </tr>\n",
       "    <tr>\n",
       "      <th>1</th>\n",
       "      <td>-8.838276e+06</td>\n",
       "      <td>5.411275e+06</td>\n",
       "      <td>7812849</td>\n",
       "      <td>1353734</td>\n",
       "      <td>2013</td>\n",
       "      <td>2013-04-04 04:00:00+00:00</td>\n",
       "      <td>2000</td>\n",
       "      <td>20</td>\n",
       "      <td>QUEEN St W</td>\n",
       "      <td>SPADINA Ave</td>\n",
       "      <td>...</td>\n",
       "      <td>0</td>\n",
       "      <td>0</td>\n",
       "      <td>0</td>\n",
       "      <td>0</td>\n",
       "      <td>D52</td>\n",
       "      <td>78</td>\n",
       "      <td>Kensington-Chinatown (78)</td>\n",
       "      <td>2</td>\n",
       "      <td>Apr</td>\n",
       "      <td>4</td>\n",
       "    </tr>\n",
       "    <tr>\n",
       "      <th>2</th>\n",
       "      <td>-8.838276e+06</td>\n",
       "      <td>5.411275e+06</td>\n",
       "      <td>7812850</td>\n",
       "      <td>1353734</td>\n",
       "      <td>2013</td>\n",
       "      <td>2013-04-04 04:00:00+00:00</td>\n",
       "      <td>2000</td>\n",
       "      <td>20</td>\n",
       "      <td>QUEEN St W</td>\n",
       "      <td>SPADINA Ave</td>\n",
       "      <td>...</td>\n",
       "      <td>0</td>\n",
       "      <td>0</td>\n",
       "      <td>0</td>\n",
       "      <td>0</td>\n",
       "      <td>D52</td>\n",
       "      <td>78</td>\n",
       "      <td>Kensington-Chinatown (78)</td>\n",
       "      <td>3</td>\n",
       "      <td>Apr</td>\n",
       "      <td>4</td>\n",
       "    </tr>\n",
       "    <tr>\n",
       "      <th>3</th>\n",
       "      <td>-8.838276e+06</td>\n",
       "      <td>5.411275e+06</td>\n",
       "      <td>7812851</td>\n",
       "      <td>1353734</td>\n",
       "      <td>2013</td>\n",
       "      <td>2013-04-04 04:00:00+00:00</td>\n",
       "      <td>2000</td>\n",
       "      <td>20</td>\n",
       "      <td>QUEEN St W</td>\n",
       "      <td>SPADINA Ave</td>\n",
       "      <td>...</td>\n",
       "      <td>0</td>\n",
       "      <td>0</td>\n",
       "      <td>0</td>\n",
       "      <td>0</td>\n",
       "      <td>D52</td>\n",
       "      <td>78</td>\n",
       "      <td>Kensington-Chinatown (78)</td>\n",
       "      <td>4</td>\n",
       "      <td>Apr</td>\n",
       "      <td>4</td>\n",
       "    </tr>\n",
       "    <tr>\n",
       "      <th>4</th>\n",
       "      <td>-8.838276e+06</td>\n",
       "      <td>5.411275e+06</td>\n",
       "      <td>7812852</td>\n",
       "      <td>1353734</td>\n",
       "      <td>2013</td>\n",
       "      <td>2013-04-04 04:00:00+00:00</td>\n",
       "      <td>2000</td>\n",
       "      <td>20</td>\n",
       "      <td>QUEEN St W</td>\n",
       "      <td>SPADINA Ave</td>\n",
       "      <td>...</td>\n",
       "      <td>0</td>\n",
       "      <td>0</td>\n",
       "      <td>0</td>\n",
       "      <td>0</td>\n",
       "      <td>D52</td>\n",
       "      <td>78</td>\n",
       "      <td>Kensington-Chinatown (78)</td>\n",
       "      <td>5</td>\n",
       "      <td>Apr</td>\n",
       "      <td>4</td>\n",
       "    </tr>\n",
       "    <tr>\n",
       "      <th>5</th>\n",
       "      <td>-8.843186e+06</td>\n",
       "      <td>5.412814e+06</td>\n",
       "      <td>7814391</td>\n",
       "      <td>1354394</td>\n",
       "      <td>2013</td>\n",
       "      <td>2013-04-05 04:00:00+00:00</td>\n",
       "      <td>2259</td>\n",
       "      <td>22</td>\n",
       "      <td>BLOOR ST W</td>\n",
       "      <td>MARGUERETTA ST</td>\n",
       "      <td>...</td>\n",
       "      <td>1</td>\n",
       "      <td>0</td>\n",
       "      <td>0</td>\n",
       "      <td>0</td>\n",
       "      <td>D11</td>\n",
       "      <td>83</td>\n",
       "      <td>Dufferin Grove (83)</td>\n",
       "      <td>6</td>\n",
       "      <td>Apr</td>\n",
       "      <td>1</td>\n",
       "    </tr>\n",
       "    <tr>\n",
       "      <th>6</th>\n",
       "      <td>-8.843186e+06</td>\n",
       "      <td>5.412814e+06</td>\n",
       "      <td>7814392</td>\n",
       "      <td>1354394</td>\n",
       "      <td>2013</td>\n",
       "      <td>2013-04-05 04:00:00+00:00</td>\n",
       "      <td>2259</td>\n",
       "      <td>22</td>\n",
       "      <td>BLOOR ST W</td>\n",
       "      <td>MARGUERETTA ST</td>\n",
       "      <td>...</td>\n",
       "      <td>1</td>\n",
       "      <td>0</td>\n",
       "      <td>0</td>\n",
       "      <td>0</td>\n",
       "      <td>D11</td>\n",
       "      <td>83</td>\n",
       "      <td>Dufferin Grove (83)</td>\n",
       "      <td>7</td>\n",
       "      <td>Apr</td>\n",
       "      <td>1</td>\n",
       "    </tr>\n",
       "    <tr>\n",
       "      <th>7</th>\n",
       "      <td>-8.836429e+06</td>\n",
       "      <td>5.414199e+06</td>\n",
       "      <td>7813700</td>\n",
       "      <td>1354069</td>\n",
       "      <td>2013</td>\n",
       "      <td>2013-04-08 04:00:00+00:00</td>\n",
       "      <td>1722</td>\n",
       "      <td>17</td>\n",
       "      <td>JARVIS ST</td>\n",
       "      <td>EARL PL</td>\n",
       "      <td>...</td>\n",
       "      <td>0</td>\n",
       "      <td>0</td>\n",
       "      <td>0</td>\n",
       "      <td>0</td>\n",
       "      <td>D51</td>\n",
       "      <td>74</td>\n",
       "      <td>North St.James Town (74)</td>\n",
       "      <td>8</td>\n",
       "      <td>Apr</td>\n",
       "      <td>1</td>\n",
       "    </tr>\n",
       "    <tr>\n",
       "      <th>8</th>\n",
       "      <td>-8.836429e+06</td>\n",
       "      <td>5.414199e+06</td>\n",
       "      <td>7813701</td>\n",
       "      <td>1354069</td>\n",
       "      <td>2013</td>\n",
       "      <td>2013-04-08 04:00:00+00:00</td>\n",
       "      <td>1722</td>\n",
       "      <td>17</td>\n",
       "      <td>JARVIS ST</td>\n",
       "      <td>EARL PL</td>\n",
       "      <td>...</td>\n",
       "      <td>0</td>\n",
       "      <td>0</td>\n",
       "      <td>0</td>\n",
       "      <td>0</td>\n",
       "      <td>D51</td>\n",
       "      <td>74</td>\n",
       "      <td>North St.James Town (74)</td>\n",
       "      <td>9</td>\n",
       "      <td>Apr</td>\n",
       "      <td>1</td>\n",
       "    </tr>\n",
       "    <tr>\n",
       "      <th>9</th>\n",
       "      <td>-8.836429e+06</td>\n",
       "      <td>5.414199e+06</td>\n",
       "      <td>7813702</td>\n",
       "      <td>1354069</td>\n",
       "      <td>2013</td>\n",
       "      <td>2013-04-08 04:00:00+00:00</td>\n",
       "      <td>1722</td>\n",
       "      <td>17</td>\n",
       "      <td>JARVIS ST</td>\n",
       "      <td>EARL PL</td>\n",
       "      <td>...</td>\n",
       "      <td>0</td>\n",
       "      <td>0</td>\n",
       "      <td>0</td>\n",
       "      <td>0</td>\n",
       "      <td>D51</td>\n",
       "      <td>74</td>\n",
       "      <td>North St.James Town (74)</td>\n",
       "      <td>10</td>\n",
       "      <td>Apr</td>\n",
       "      <td>1</td>\n",
       "    </tr>\n",
       "  </tbody>\n",
       "</table>\n",
       "<p>10 rows × 59 columns</p>\n",
       "</div>"
      ],
      "text/plain": [
       "              X             Y   INDEX_   ACCNUM  YEAR  \\\n",
       "0 -8.849469e+06  5.415628e+06  7805822  1350654  2013   \n",
       "1 -8.838276e+06  5.411275e+06  7812849  1353734  2013   \n",
       "2 -8.838276e+06  5.411275e+06  7812850  1353734  2013   \n",
       "3 -8.838276e+06  5.411275e+06  7812851  1353734  2013   \n",
       "4 -8.838276e+06  5.411275e+06  7812852  1353734  2013   \n",
       "5 -8.843186e+06  5.412814e+06  7814391  1354394  2013   \n",
       "6 -8.843186e+06  5.412814e+06  7814392  1354394  2013   \n",
       "7 -8.836429e+06  5.414199e+06  7813700  1354069  2013   \n",
       "8 -8.836429e+06  5.414199e+06  7813701  1354069  2013   \n",
       "9 -8.836429e+06  5.414199e+06  7813702  1354069  2013   \n",
       "\n",
       "                       DATE  TIME  HOUR     STREET1         STREET2  ...  \\\n",
       "0 2013-03-30 04:00:00+00:00  1214    12     JANE ST    DALRYMPLE DR  ...   \n",
       "1 2013-04-04 04:00:00+00:00  2000    20  QUEEN St W     SPADINA Ave  ...   \n",
       "2 2013-04-04 04:00:00+00:00  2000    20  QUEEN St W     SPADINA Ave  ...   \n",
       "3 2013-04-04 04:00:00+00:00  2000    20  QUEEN St W     SPADINA Ave  ...   \n",
       "4 2013-04-04 04:00:00+00:00  2000    20  QUEEN St W     SPADINA Ave  ...   \n",
       "5 2013-04-05 04:00:00+00:00  2259    22  BLOOR ST W  MARGUERETTA ST  ...   \n",
       "6 2013-04-05 04:00:00+00:00  2259    22  BLOOR ST W  MARGUERETTA ST  ...   \n",
       "7 2013-04-08 04:00:00+00:00  1722    17   JARVIS ST         EARL PL  ...   \n",
       "8 2013-04-08 04:00:00+00:00  1722    17   JARVIS ST         EARL PL  ...   \n",
       "9 2013-04-08 04:00:00+00:00  1722    17   JARVIS ST         EARL PL  ...   \n",
       "\n",
       "  AG_DRIV REDLIGHT  ALCOHOL DISABILITY POLICE_DIVISION  HOOD_ID  \\\n",
       "0       1        0        0          0             D12      111   \n",
       "1       0        0        0          0             D52       78   \n",
       "2       0        0        0          0             D52       78   \n",
       "3       0        0        0          0             D52       78   \n",
       "4       0        0        0          0             D52       78   \n",
       "5       1        0        0          0             D11       83   \n",
       "6       1        0        0          0             D11       83   \n",
       "7       0        0        0          0             D51       74   \n",
       "8       0        0        0          0             D51       74   \n",
       "9       0        0        0          0             D51       74   \n",
       "\n",
       "               NEIGHBOURHOOD ObjectId MONTH ACCBYVEH  \n",
       "0    Rockcliffe-Smythe (111)        1   Mar        1  \n",
       "1  Kensington-Chinatown (78)        2   Apr        4  \n",
       "2  Kensington-Chinatown (78)        3   Apr        4  \n",
       "3  Kensington-Chinatown (78)        4   Apr        4  \n",
       "4  Kensington-Chinatown (78)        5   Apr        4  \n",
       "5        Dufferin Grove (83)        6   Apr        1  \n",
       "6        Dufferin Grove (83)        7   Apr        1  \n",
       "7   North St.James Town (74)        8   Apr        1  \n",
       "8   North St.James Town (74)        9   Apr        1  \n",
       "9   North St.James Town (74)       10   Apr        1  \n",
       "\n",
       "[10 rows x 59 columns]"
      ]
     },
     "execution_count": 63,
     "metadata": {},
     "output_type": "execute_result"
    }
   ],
   "source": [
    "df.head(10)"
   ]
  },
  {
   "cell_type": "code",
   "execution_count": 64,
   "id": "3377f6f1",
   "metadata": {},
   "outputs": [
    {
     "data": {
      "text/plain": [
       "array([[<AxesSubplot:title={'center':'X'}>,\n",
       "        <AxesSubplot:title={'center':'Y'}>,\n",
       "        <AxesSubplot:title={'center':'INDEX_'}>,\n",
       "        <AxesSubplot:title={'center':'ACCNUM'}>,\n",
       "        <AxesSubplot:title={'center':'YEAR'}>,\n",
       "        <AxesSubplot:title={'center':'DATE'}>],\n",
       "       [<AxesSubplot:title={'center':'TIME'}>,\n",
       "        <AxesSubplot:title={'center':'HOUR'}>,\n",
       "        <AxesSubplot:title={'center':'DISTRICT'}>,\n",
       "        <AxesSubplot:title={'center':'LATITUDE'}>,\n",
       "        <AxesSubplot:title={'center':'LONGITUDE'}>,\n",
       "        <AxesSubplot:title={'center':'LIGHT'}>],\n",
       "       [<AxesSubplot:title={'center':'RDSFCOND'}>,\n",
       "        <AxesSubplot:title={'center':'ACCLASS'}>,\n",
       "        <AxesSubplot:title={'center':'INJURY'}>,\n",
       "        <AxesSubplot:title={'center':'DRIVACT'}>,\n",
       "        <AxesSubplot:title={'center':'PEDESTRIAN'}>,\n",
       "        <AxesSubplot:title={'center':'AUTOMOBILE'}>],\n",
       "       [<AxesSubplot:title={'center':'MOTORCYCLE'}>,\n",
       "        <AxesSubplot:title={'center':'TRUCK'}>,\n",
       "        <AxesSubplot:title={'center':'TRSN_CITY_VEH'}>,\n",
       "        <AxesSubplot:title={'center':'EMERG_VEH'}>,\n",
       "        <AxesSubplot:title={'center':'PASSENGER'}>,\n",
       "        <AxesSubplot:title={'center':'SPEEDING'}>],\n",
       "       [<AxesSubplot:title={'center':'AG_DRIV'}>,\n",
       "        <AxesSubplot:title={'center':'REDLIGHT'}>,\n",
       "        <AxesSubplot:title={'center':'ALCOHOL'}>,\n",
       "        <AxesSubplot:title={'center':'DISABILITY'}>,\n",
       "        <AxesSubplot:title={'center':'HOOD_ID'}>,\n",
       "        <AxesSubplot:title={'center':'ObjectId'}>],\n",
       "       [<AxesSubplot:title={'center':'ACCBYVEH'}>, <AxesSubplot:>,\n",
       "        <AxesSubplot:>, <AxesSubplot:>, <AxesSubplot:>, <AxesSubplot:>]],\n",
       "      dtype=object)"
      ]
     },
     "execution_count": 64,
     "metadata": {},
     "output_type": "execute_result"
    },
    {
     "data": {
      "image/png": "[encoded data removed]",
      "text/plain": [
       "<Figure size 2160x1440 with 36 Axes>"
      ]
     },
     "metadata": {
      "needs_background": "light"
     },
     "output_type": "display_data"
    }
   ],
   "source": [
    "df.hist(bins=10, figsize=(30, 20))"
   ]
  },
  {
   "cell_type": "markdown",
   "id": "229b22ea",
   "metadata": {},
   "source": [
    "# Skew of Data  "
   ]
  },
  {
   "cell_type": "code",
   "execution_count": 65,
   "id": "88afe890",
   "metadata": {},
   "outputs": [],
   "source": [
    "import seaborn as sns\n",
    "from scipy.stats import skew"
   ]
  },
  {
   "cell_type": "code",
   "execution_count": 66,
   "id": "05153733",
   "metadata": {},
   "outputs": [
    {
     "data": {
      "text/plain": [
       "X                 0.178974\n",
       "Y                 1.137557\n",
       "INDEX_            0.387986\n",
       "ACCNUM            0.863706\n",
       "YEAR              0.039456\n",
       "TIME             -0.526312\n",
       "HOUR             -0.524359\n",
       "DISTRICT         -1.118141\n",
       "LATITUDE          1.136127\n",
       "LONGITUDE         0.178974\n",
       "LIGHT            -0.919490\n",
       "RDSFCOND          2.596739\n",
       "ACCLASS          -3.506602\n",
       "INJURY           -0.261238\n",
       "DRIVACT          -0.908335\n",
       "PEDESTRIAN        6.923110\n",
       "AUTOMOBILE       -1.912617\n",
       "MOTORCYCLE       14.823968\n",
       "TRUCK             3.399585\n",
       "TRSN_CITY_VEH     4.459493\n",
       "EMERG_VEH        18.798900\n",
       "PASSENGER         2.030828\n",
       "SPEEDING          5.536101\n",
       "AG_DRIV           0.579861\n",
       "REDLIGHT          5.371126\n",
       "ALCOHOL           9.047887\n",
       "DISABILITY        0.000000\n",
       "HOOD_ID          -0.414696\n",
       "ObjectId          0.000000\n",
       "ACCBYVEH          2.306439\n",
       "dtype: float64"
      ]
     },
     "execution_count": 66,
     "metadata": {},
     "output_type": "execute_result"
    }
   ],
   "source": [
    "df.skew()"
   ]
  },
  {
   "cell_type": "markdown",
   "id": "8651627d",
   "metadata": {},
   "source": [
    "# YEAR SKEW"
   ]
  },
  {
   "cell_type": "code",
   "execution_count": 67,
   "id": "e1e27e92",
   "metadata": {},
   "outputs": [
    {
     "name": "stderr",
     "output_type": "stream",
     "text": [
      "C:\\Users\\maste\\anaconda3\\lib\\site-packages\\seaborn\\distributions.py:2557: FutureWarning: `distplot` is a deprecated function and will be removed in a future version. Please adapt your code to use either `displot` (a figure-level function with similar flexibility) or `histplot` (an axes-level function for histograms).\n",
      "  warnings.warn(msg, FutureWarning)\n"
     ]
    },
    {
     "data": {
      "text/plain": [
       "<AxesSubplot:xlabel='YEAR', ylabel='Density'>"
      ]
     },
     "execution_count": 67,
     "metadata": {},
     "output_type": "execute_result"
    },
    {
     "data": {
      "image/png": "[encoded data removed]",
      "text/plain": [
       "<Figure size 432x288 with 1 Axes>"
      ]
     },
     "metadata": {
      "needs_background": "light"
     },
     "output_type": "display_data"
    }
   ],
   "source": [
    "sns.distplot(df.YEAR)"
   ]
  },
  {
   "cell_type": "markdown",
   "id": "cf27c81e",
   "metadata": {},
   "source": [
    "# Road Class - SKEW"
   ]
  },
  {
   "cell_type": "code",
   "execution_count": 68,
   "id": "75c41ec6",
   "metadata": {},
   "outputs": [
    {
     "data": {
      "text/plain": [
       "(0, 4)"
      ]
     },
     "execution_count": 68,
     "metadata": {},
     "output_type": "execute_result"
    }
   ],
   "source": [
    "RC_ = pd.DataFrame(df.ROAD_CLASS)\n",
    "RC_\n",
    "\n",
    "RC_['HOT'] = le.fit_transform(df.ROAD_CLASS)\n",
    "RC_['HOT'].min(), RC_['HOT'].max()"
   ]
  },
  {
   "cell_type": "code",
   "execution_count": 69,
   "id": "7bce06f6",
   "metadata": {},
   "outputs": [
    {
     "name": "stdout",
     "output_type": "stream",
     "text": [
      "Major Arterial 3\n",
      "Local 2\n",
      "Minor Arterial 4\n",
      "Collector 1\n",
      "<Null> 0\n"
     ]
    },
    {
     "name": "stderr",
     "output_type": "stream",
     "text": [
      "C:\\Users\\maste\\anaconda3\\lib\\site-packages\\seaborn\\distributions.py:2557: FutureWarning: `distplot` is a deprecated function and will be removed in a future version. Please adapt your code to use either `displot` (a figure-level function with similar flexibility) or `histplot` (an axes-level function for histograms).\n",
      "  warnings.warn(msg, FutureWarning)\n"
     ]
    },
    {
     "data": {
      "text/plain": [
       "<AxesSubplot:xlabel='HOT', ylabel='Density'>"
      ]
     },
     "execution_count": 69,
     "metadata": {},
     "output_type": "execute_result"
    },
    {
     "data": {
      "image/png": "[encoded data removed]",
      "text/plain": [
       "<Figure size 432x288 with 1 Axes>"
      ]
     },
     "metadata": {
      "needs_background": "light"
     },
     "output_type": "display_data"
    }
   ],
   "source": [
    "values = []\n",
    "for v in range(RC_['HOT'].max() + 1):\n",
    "    values.append(v)\n",
    "\n",
    "for ind in RC_.index:\n",
    "    if RC_.HOT[ind] in values:\n",
    "        print(RC_.ROAD_CLASS[ind], RC_.HOT[ind])\n",
    "        values.remove(RC_.HOT[ind])\n",
    "        \n",
    "        \n",
    "sns.distplot(RC_.HOT)"
   ]
  },
  {
   "cell_type": "markdown",
   "id": "0b8db09e",
   "metadata": {},
   "source": [
    "# DISTRICT - SKEW"
   ]
  },
  {
   "cell_type": "code",
   "execution_count": 70,
   "id": "009b56e9",
   "metadata": {},
   "outputs": [
    {
     "data": {
      "text/plain": [
       "(0, 3)"
      ]
     },
     "execution_count": 70,
     "metadata": {},
     "output_type": "execute_result"
    }
   ],
   "source": [
    "DS_ = pd.DataFrame(df.DISTRICT)\n",
    "DS_\n",
    "\n",
    "DS_['HOT'] = le.fit_transform(df.DISTRICT)\n",
    "DS_['HOT'].min(), DS_['HOT'].max()"
   ]
  },
  {
   "cell_type": "code",
   "execution_count": 71,
   "id": "0a1e9ee1",
   "metadata": {},
   "outputs": [
    {
     "name": "stdout",
     "output_type": "stream",
     "text": [
      "0 0\n",
      "3 3\n",
      "2 2\n",
      "1 1\n"
     ]
    },
    {
     "name": "stderr",
     "output_type": "stream",
     "text": [
      "C:\\Users\\maste\\anaconda3\\lib\\site-packages\\seaborn\\distributions.py:2557: FutureWarning: `distplot` is a deprecated function and will be removed in a future version. Please adapt your code to use either `displot` (a figure-level function with similar flexibility) or `histplot` (an axes-level function for histograms).\n",
      "  warnings.warn(msg, FutureWarning)\n"
     ]
    },
    {
     "data": {
      "text/plain": [
       "<AxesSubplot:xlabel='HOT', ylabel='Density'>"
      ]
     },
     "execution_count": 71,
     "metadata": {},
     "output_type": "execute_result"
    },
    {
     "data": {
      "image/png": "[encoded data removed]",
      "text/plain": [
       "<Figure size 432x288 with 1 Axes>"
      ]
     },
     "metadata": {
      "needs_background": "light"
     },
     "output_type": "display_data"
    }
   ],
   "source": [
    "values = []\n",
    "for v in range(DS_['HOT'].max() + 1):\n",
    "    values.append(v)\n",
    "\n",
    "for ind in DS_.index:\n",
    "    if DS_.HOT[ind] in values:\n",
    "        print(DS_.DISTRICT[ind], DS_.HOT[ind])\n",
    "        values.remove(DS_.HOT[ind])\n",
    "        \n",
    "        \n",
    "sns.distplot(DS_.HOT)"
   ]
  },
  {
   "cell_type": "markdown",
   "id": "8dd8fb8e",
   "metadata": {},
   "source": [
    "# LOCATION - SKEW"
   ]
  },
  {
   "cell_type": "code",
   "execution_count": 72,
   "id": "6bcfeb4c",
   "metadata": {},
   "outputs": [
    {
     "data": {
      "text/plain": [
       "(0, 2)"
      ]
     },
     "execution_count": 72,
     "metadata": {},
     "output_type": "execute_result"
    }
   ],
   "source": [
    "LC_ = pd.DataFrame(df.LOCCOORD)\n",
    "LC_\n",
    "\n",
    "LC_['HOT'] = le.fit_transform(df.LOCCOORD)\n",
    "LC_['HOT'].min(), LC_['HOT'].max()"
   ]
  },
  {
   "cell_type": "code",
   "execution_count": 73,
   "id": "b027e908",
   "metadata": {},
   "outputs": [
    {
     "name": "stdout",
     "output_type": "stream",
     "text": [
      "Intersection 1\n",
      "Mid-Block 2\n",
      "<Null> 0\n"
     ]
    },
    {
     "name": "stderr",
     "output_type": "stream",
     "text": [
      "C:\\Users\\maste\\anaconda3\\lib\\site-packages\\seaborn\\distributions.py:2557: FutureWarning: `distplot` is a deprecated function and will be removed in a future version. Please adapt your code to use either `displot` (a figure-level function with similar flexibility) or `histplot` (an axes-level function for histograms).\n",
      "  warnings.warn(msg, FutureWarning)\n"
     ]
    },
    {
     "data": {
      "text/plain": [
       "<AxesSubplot:xlabel='HOT', ylabel='Density'>"
      ]
     },
     "execution_count": 73,
     "metadata": {},
     "output_type": "execute_result"
    },
    {
     "data": {
      "image/png": "[encoded data removed]",
      "text/plain": [
       "<Figure size 432x288 with 1 Axes>"
      ]
     },
     "metadata": {
      "needs_background": "light"
     },
     "output_type": "display_data"
    }
   ],
   "source": [
    "values = []\n",
    "for v in range(LC_['HOT'].max() + 1):\n",
    "    values.append(v)\n",
    "\n",
    "for ind in LC_.index:\n",
    "    if LC_.HOT[ind] in values:\n",
    "        print(LC_.LOCCOORD[ind], LC_.HOT[ind])\n",
    "        values.remove(LC_.HOT[ind])\n",
    "        \n",
    "        \n",
    "sns.distplot(LC_.HOT)"
   ]
  },
  {
   "cell_type": "markdown",
   "id": "c938726d",
   "metadata": {},
   "source": [
    "# TRAFFIC CONTROLLER- SKEW"
   ]
  },
  {
   "cell_type": "code",
   "execution_count": 74,
   "id": "fe3af674",
   "metadata": {},
   "outputs": [
    {
     "data": {
      "text/plain": [
       "(0, 5)"
      ]
     },
     "execution_count": 74,
     "metadata": {},
     "output_type": "execute_result"
    }
   ],
   "source": [
    "RC_ = pd.DataFrame(df.TRAFFCTL)\n",
    "RC_\n",
    "\n",
    "RC_['HOT'] = le.fit_transform(df.TRAFFCTL)\n",
    "RC_['HOT'].min(), RC_['HOT'].max()"
   ]
  },
  {
   "cell_type": "code",
   "execution_count": 75,
   "id": "6574a2c8",
   "metadata": {},
   "outputs": [
    {
     "name": "stdout",
     "output_type": "stream",
     "text": [
      "No Control 0\n",
      "Traffic Signal 5\n",
      "Stop Sign 2\n",
      "Pedestrian Crossover 1\n",
      "Traffic Controller 4\n",
      "Streetcar (Stop for) 3\n"
     ]
    },
    {
     "name": "stderr",
     "output_type": "stream",
     "text": [
      "C:\\Users\\maste\\anaconda3\\lib\\site-packages\\seaborn\\distributions.py:2557: FutureWarning: `distplot` is a deprecated function and will be removed in a future version. Please adapt your code to use either `displot` (a figure-level function with similar flexibility) or `histplot` (an axes-level function for histograms).\n",
      "  warnings.warn(msg, FutureWarning)\n"
     ]
    },
    {
     "data": {
      "text/plain": [
       "<AxesSubplot:xlabel='HOT', ylabel='Density'>"
      ]
     },
     "execution_count": 75,
     "metadata": {},
     "output_type": "execute_result"
    },
    {
     "data": {
      "image/png": "[encoded data removed]",
      "text/plain": [
       "<Figure size 432x288 with 1 Axes>"
      ]
     },
     "metadata": {
      "needs_background": "light"
     },
     "output_type": "display_data"
    }
   ],
   "source": [
    "values = []\n",
    "for v in range(RC_['HOT'].max() + 1):\n",
    "    values.append(v)\n",
    "\n",
    "for ind in RC_.index:\n",
    "    if RC_.HOT[ind] in values:\n",
    "        print(RC_.TRAFFCTL[ind], RC_.HOT[ind])\n",
    "        values.remove(RC_.HOT[ind])\n",
    "        \n",
    "        \n",
    "sns.distplot(RC_.HOT)"
   ]
  },
  {
   "cell_type": "markdown",
   "id": "378e5d2d",
   "metadata": {},
   "source": [
    "# VISIBILITY - SKEW"
   ]
  },
  {
   "cell_type": "code",
   "execution_count": 76,
   "id": "f90ff54d",
   "metadata": {},
   "outputs": [
    {
     "data": {
      "text/plain": [
       "(0, 4)"
      ]
     },
     "execution_count": 76,
     "metadata": {},
     "output_type": "execute_result"
    }
   ],
   "source": [
    "RC_ = pd.DataFrame(df.VISIBILITY)\n",
    "RC_\n",
    "\n",
    "RC_['HOT'] = le.fit_transform(df.VISIBILITY)\n",
    "RC_['HOT'].min(), RC_['HOT'].max()"
   ]
  },
  {
   "cell_type": "code",
   "execution_count": 77,
   "id": "17b83c05",
   "metadata": {},
   "outputs": [
    {
     "name": "stdout",
     "output_type": "stream",
     "text": [
      "Clear 0\n",
      "Rain 3\n",
      "Snow 4\n",
      "Other 2\n",
      "Drifting Snow 1\n"
     ]
    },
    {
     "name": "stderr",
     "output_type": "stream",
     "text": [
      "C:\\Users\\maste\\anaconda3\\lib\\site-packages\\seaborn\\distributions.py:2557: FutureWarning: `distplot` is a deprecated function and will be removed in a future version. Please adapt your code to use either `displot` (a figure-level function with similar flexibility) or `histplot` (an axes-level function for histograms).\n",
      "  warnings.warn(msg, FutureWarning)\n"
     ]
    },
    {
     "data": {
      "text/plain": [
       "<AxesSubplot:xlabel='HOT', ylabel='Density'>"
      ]
     },
     "execution_count": 77,
     "metadata": {},
     "output_type": "execute_result"
    },
    {
     "data": {
      "image/png": "[encoded data removed]",
      "text/plain": [
       "<Figure size 432x288 with 1 Axes>"
      ]
     },
     "metadata": {
      "needs_background": "light"
     },
     "output_type": "display_data"
    }
   ],
   "source": [
    "values = []\n",
    "for v in range(RC_['HOT'].max() + 1):\n",
    "    values.append(v)\n",
    "\n",
    "for ind in RC_.index:\n",
    "    if RC_.HOT[ind] in values:\n",
    "        print(RC_.VISIBILITY[ind], RC_.HOT[ind])\n",
    "        values.remove(RC_.HOT[ind])\n",
    "        \n",
    "        \n",
    "sns.distplot(RC_.HOT)"
   ]
  },
  {
   "cell_type": "markdown",
   "id": "043c8d68",
   "metadata": {},
   "source": [
    "# LIGHT - SKEW"
   ]
  },
  {
   "cell_type": "code",
   "execution_count": 78,
   "id": "8d5a02ab",
   "metadata": {},
   "outputs": [
    {
     "data": {
      "text/plain": [
       "(0, 3)"
      ]
     },
     "execution_count": 78,
     "metadata": {},
     "output_type": "execute_result"
    }
   ],
   "source": [
    "RC_ = pd.DataFrame(df.LIGHT)\n",
    "RC_\n",
    "\n",
    "RC_['HOT'] = le.fit_transform(df.LIGHT)\n",
    "RC_['HOT'].min(), RC_['HOT'].max()"
   ]
  },
  {
   "cell_type": "code",
   "execution_count": 79,
   "id": "29c1d5f5",
   "metadata": {},
   "outputs": [
    {
     "name": "stdout",
     "output_type": "stream",
     "text": [
      "2 2\n",
      "3 3\n",
      "0 0\n",
      "1 1\n"
     ]
    },
    {
     "name": "stderr",
     "output_type": "stream",
     "text": [
      "C:\\Users\\maste\\anaconda3\\lib\\site-packages\\seaborn\\distributions.py:2557: FutureWarning: `distplot` is a deprecated function and will be removed in a future version. Please adapt your code to use either `displot` (a figure-level function with similar flexibility) or `histplot` (an axes-level function for histograms).\n",
      "  warnings.warn(msg, FutureWarning)\n"
     ]
    },
    {
     "data": {
      "text/plain": [
       "<AxesSubplot:xlabel='HOT', ylabel='Density'>"
      ]
     },
     "execution_count": 79,
     "metadata": {},
     "output_type": "execute_result"
    },
    {
     "data": {
      "image/png": "[encoded data removed]",
      "text/plain": [
       "<Figure size 432x288 with 1 Axes>"
      ]
     },
     "metadata": {
      "needs_background": "light"
     },
     "output_type": "display_data"
    }
   ],
   "source": [
    "values = []\n",
    "for v in range(RC_['HOT'].max() + 1):\n",
    "    values.append(v)\n",
    "\n",
    "for ind in RC_.index:\n",
    "    if RC_.HOT[ind] in values:\n",
    "        print(RC_.LIGHT[ind], RC_.HOT[ind])\n",
    "        values.remove(RC_.HOT[ind])\n",
    "        \n",
    "        \n",
    "sns.distplot(RC_.HOT)\n"
   ]
  },
  {
   "cell_type": "markdown",
   "id": "8fb56265",
   "metadata": {},
   "source": [
    "# ROAD SURFACE CONDITION- SKEW"
   ]
  },
  {
   "cell_type": "code",
   "execution_count": 80,
   "id": "5b1b9484",
   "metadata": {},
   "outputs": [
    {
     "data": {
      "text/plain": [
       "(0, 3)"
      ]
     },
     "execution_count": 80,
     "metadata": {},
     "output_type": "execute_result"
    }
   ],
   "source": [
    "RC_ = pd.DataFrame(df.RDSFCOND)\n",
    "RC_\n",
    "\n",
    "RC_['HOT'] = le.fit_transform(df.RDSFCOND)\n",
    "RC_['HOT'].min(), RC_['HOT'].max()"
   ]
  },
  {
   "cell_type": "code",
   "execution_count": 81,
   "id": "a2e598e6",
   "metadata": {},
   "outputs": [
    {
     "name": "stdout",
     "output_type": "stream",
     "text": [
      "0 0\n",
      "3 3\n",
      "1 1\n",
      "2 2\n"
     ]
    },
    {
     "name": "stderr",
     "output_type": "stream",
     "text": [
      "C:\\Users\\maste\\anaconda3\\lib\\site-packages\\seaborn\\distributions.py:2557: FutureWarning: `distplot` is a deprecated function and will be removed in a future version. Please adapt your code to use either `displot` (a figure-level function with similar flexibility) or `histplot` (an axes-level function for histograms).\n",
      "  warnings.warn(msg, FutureWarning)\n"
     ]
    },
    {
     "data": {
      "text/plain": [
       "<AxesSubplot:xlabel='HOT', ylabel='Density'>"
      ]
     },
     "execution_count": 81,
     "metadata": {},
     "output_type": "execute_result"
    },
    {
     "data": {
      "image/png": "[encoded data removed]",
      "text/plain": [
       "<Figure size 432x288 with 1 Axes>"
      ]
     },
     "metadata": {
      "needs_background": "light"
     },
     "output_type": "display_data"
    }
   ],
   "source": [
    "values = []\n",
    "for v in range(RC_['HOT'].max() + 1):\n",
    "    values.append(v)\n",
    "\n",
    "for ind in RC_.index:\n",
    "    if RC_.HOT[ind] in values:\n",
    "        print(RC_.RDSFCOND[ind], RC_.HOT[ind])\n",
    "        values.remove(RC_.HOT[ind])\n",
    "        \n",
    "        \n",
    "sns.distplot(RC_.HOT)\n"
   ]
  },
  {
   "cell_type": "markdown",
   "id": "b51b4c9f",
   "metadata": {},
   "source": [
    "# AUTOMOBILE - SKEW"
   ]
  },
  {
   "cell_type": "code",
   "execution_count": 82,
   "id": "258effec",
   "metadata": {},
   "outputs": [
    {
     "name": "stderr",
     "output_type": "stream",
     "text": [
      "C:\\Users\\maste\\anaconda3\\lib\\site-packages\\seaborn\\distributions.py:2557: FutureWarning: `distplot` is a deprecated function and will be removed in a future version. Please adapt your code to use either `displot` (a figure-level function with similar flexibility) or `histplot` (an axes-level function for histograms).\n",
      "  warnings.warn(msg, FutureWarning)\n"
     ]
    },
    {
     "data": {
      "text/plain": [
       "<AxesSubplot:xlabel='AUTOMOBILE', ylabel='Density'>"
      ]
     },
     "execution_count": 82,
     "metadata": {},
     "output_type": "execute_result"
    },
    {
     "data": {
      "image/png": "[encoded data removed]",
      "text/plain": [
       "<Figure size 432x288 with 1 Axes>"
      ]
     },
     "metadata": {
      "needs_background": "light"
     },
     "output_type": "display_data"
    }
   ],
   "source": [
    "sns.distplot(df.AUTOMOBILE)"
   ]
  },
  {
   "cell_type": "markdown",
   "id": "20f4e716",
   "metadata": {},
   "source": [
    "# MOTERCYLE- SKEW"
   ]
  },
  {
   "cell_type": "code",
   "execution_count": 83,
   "id": "adf5744d",
   "metadata": {},
   "outputs": [
    {
     "name": "stderr",
     "output_type": "stream",
     "text": [
      "C:\\Users\\maste\\anaconda3\\lib\\site-packages\\seaborn\\distributions.py:2557: FutureWarning: `distplot` is a deprecated function and will be removed in a future version. Please adapt your code to use either `displot` (a figure-level function with similar flexibility) or `histplot` (an axes-level function for histograms).\n",
      "  warnings.warn(msg, FutureWarning)\n"
     ]
    },
    {
     "data": {
      "text/plain": [
       "<AxesSubplot:xlabel='MOTORCYCLE', ylabel='Density'>"
      ]
     },
     "execution_count": 83,
     "metadata": {},
     "output_type": "execute_result"
    },
    {
     "data": {
      "image/png": "[encoded data removed]",
      "text/plain": [
       "<Figure size 432x288 with 1 Axes>"
      ]
     },
     "metadata": {
      "needs_background": "light"
     },
     "output_type": "display_data"
    }
   ],
   "source": [
    "sns.distplot(df.MOTORCYCLE)"
   ]
  },
  {
   "cell_type": "markdown",
   "id": "3835f9a8",
   "metadata": {},
   "source": [
    "# TRUCK - SKEW"
   ]
  },
  {
   "cell_type": "code",
   "execution_count": 84,
   "id": "0527b3a6",
   "metadata": {},
   "outputs": [
    {
     "name": "stderr",
     "output_type": "stream",
     "text": [
      "C:\\Users\\maste\\anaconda3\\lib\\site-packages\\seaborn\\distributions.py:2557: FutureWarning: `distplot` is a deprecated function and will be removed in a future version. Please adapt your code to use either `displot` (a figure-level function with similar flexibility) or `histplot` (an axes-level function for histograms).\n",
      "  warnings.warn(msg, FutureWarning)\n"
     ]
    },
    {
     "data": {
      "text/plain": [
       "<AxesSubplot:xlabel='TRUCK', ylabel='Density'>"
      ]
     },
     "execution_count": 84,
     "metadata": {},
     "output_type": "execute_result"
    },
    {
     "data": {
      "image/png": "[encoded data removed]",
      "text/plain": [
       "<Figure size 432x288 with 1 Axes>"
      ]
     },
     "metadata": {
      "needs_background": "light"
     },
     "output_type": "display_data"
    }
   ],
   "source": [
    "sns.distplot(df.TRUCK)"
   ]
  },
  {
   "cell_type": "markdown",
   "id": "0148cca3",
   "metadata": {},
   "source": [
    "# Analysing Dataset"
   ]
  },
  {
   "cell_type": "code",
   "execution_count": 85,
   "id": "f9be1ba2",
   "metadata": {},
   "outputs": [
    {
     "data": {
      "text/plain": [
       "(1779, 59)"
      ]
     },
     "execution_count": 85,
     "metadata": {},
     "output_type": "execute_result"
    }
   ],
   "source": [
    "df.shape"
   ]
  },
  {
   "cell_type": "code",
   "execution_count": 86,
   "id": "e4422d7a",
   "metadata": {},
   "outputs": [
    {
     "data": {
      "text/plain": [
       "(1779, 59)"
      ]
     },
     "execution_count": 86,
     "metadata": {},
     "output_type": "execute_result"
    }
   ],
   "source": [
    "# MAKE A COPY\n",
    "cdf = df.copy()\n",
    "size = cdf.shape[0]\n",
    "cdf.shape"
   ]
  },
  {
   "cell_type": "code",
   "execution_count": 88,
   "id": "6304cd31",
   "metadata": {},
   "outputs": [
    {
     "data": {
      "text/plain": [
       "{'AUTOMOBILE': 1478,\n",
       " 'MOTORCYCLE': 8,\n",
       " 'TRUCK': 123,\n",
       " 'TRSN_CITY_VEH': 78,\n",
       " 'EMERG_VEH': 5}"
      ]
     },
     "execution_count": 88,
     "metadata": {},
     "output_type": "execute_result"
    }
   ],
   "source": [
    "# Label Encoded values\n",
    "# ['AUTOMOBILE' == 1, 'MOTORCYCLE' == 3, 'TRUCK' == 5, 'TRSN_CITY_VEH' == 4, 'EMERG_VEH' == 2]\n",
    "\n",
    "#getting accident by vehicles data\n",
    "vehDict = {'AUTOMOBILE': 0, 'MOTORCYCLE': 0, 'TRUCK': 0, 'TRSN_CITY_VEH': 0, 'EMERG_VEH': 0}\n",
    "\n",
    "size = cdf.shape[0]\n",
    "\n",
    "for i in range(size):\n",
    "    if cdf.ACCBYVEH[i] == 1:\n",
    "        vehDict['AUTOMOBILE'] += 1\n",
    "    elif cdf.ACCBYVEH[i] == 3:\n",
    "        vehDict['MOTORCYCLE'] += 1\n",
    "    if cdf.ACCBYVEH[i] == 5:\n",
    "        vehDict['TRUCK'] += 1\n",
    "    if cdf.ACCBYVEH[i] == 4:\n",
    "        vehDict['TRSN_CITY_VEH'] += 1\n",
    "    if cdf.ACCBYVEH[i] == 2:\n",
    "        vehDict['EMERG_VEH'] += 1\n",
    "        \n",
    "vehDict"
   ]
  },
  {
   "cell_type": "code",
   "execution_count": 89,
   "id": "166e876b",
   "metadata": {},
   "outputs": [
    {
     "data": {
      "text/plain": [
       "(1779, 18)"
      ]
     },
     "execution_count": 89,
     "metadata": {},
     "output_type": "execute_result"
    }
   ],
   "source": [
    "cdf = cdf.drop( ['X', 'Y', 'INDEX_', 'DATE', 'TIME', 'STREET1', 'STREET2', 'ACCNUM', 'OFFSET', 'ROAD_CLASS', 'WARDNUM', 'DIVISION'], axis=1)\n",
    "cdf = cdf.drop( ['LATITUDE', 'LONGITUDE', 'FATAL_NO', 'INITDIR', 'PEDESTRIAN', 'CYCLIST', 'DISABILITY', 'POLICE_DIVISION'], axis=1)\n",
    "cdf = cdf.drop( ['HOOD_ID', 'ObjectId', 'NEIGHBOURHOOD', 'AUTOMOBILE', 'MOTORCYCLE', 'TRUCK', 'TRSN_CITY_VEH', 'EMERG_VEH'], axis=1)\n",
    "cdf = cdf.drop( ['VEHTYPE', 'CYCCOND', 'PASSENGER', 'REDLIGHT', 'LOCCOORD', 'ACCLOC', 'HOUR', 'IMPACTYPE', 'INVTYPE'], axis=1)\n",
    "cdf = cdf.drop( ['INVAGE', 'PEDTYPE', 'PEDACT', 'PEDCOND'], axis=1)\n",
    "\n",
    "cdf.shape"
   ]
  },
  {
   "cell_type": "code",
   "execution_count": 90,
   "id": "6ec91c4e",
   "metadata": {},
   "outputs": [
    {
     "data": {
      "text/html": [
       "<div>\n",
       "<style scoped>\n",
       "    .dataframe tbody tr th:only-of-type {\n",
       "        vertical-align: middle;\n",
       "    }\n",
       "\n",
       "    .dataframe tbody tr th {\n",
       "        vertical-align: top;\n",
       "    }\n",
       "\n",
       "    .dataframe thead th {\n",
       "        text-align: right;\n",
       "    }\n",
       "</style>\n",
       "<table border=\"1\" class=\"dataframe\">\n",
       "  <thead>\n",
       "    <tr style=\"text-align: right;\">\n",
       "      <th></th>\n",
       "      <th>YEAR</th>\n",
       "      <th>DISTRICT</th>\n",
       "      <th>TRAFFCTL</th>\n",
       "      <th>VISIBILITY</th>\n",
       "      <th>LIGHT</th>\n",
       "      <th>RDSFCOND</th>\n",
       "      <th>ACCLASS</th>\n",
       "      <th>INJURY</th>\n",
       "      <th>MANOEUVER</th>\n",
       "      <th>DRIVACT</th>\n",
       "      <th>DRIVCOND</th>\n",
       "      <th>CYCLISTYPE</th>\n",
       "      <th>CYCACT</th>\n",
       "      <th>SPEEDING</th>\n",
       "      <th>AG_DRIV</th>\n",
       "      <th>ALCOHOL</th>\n",
       "      <th>MONTH</th>\n",
       "      <th>ACCBYVEH</th>\n",
       "    </tr>\n",
       "  </thead>\n",
       "  <tbody>\n",
       "    <tr>\n",
       "      <th>0</th>\n",
       "      <td>2013</td>\n",
       "      <td>0</td>\n",
       "      <td>No Control</td>\n",
       "      <td>Clear</td>\n",
       "      <td>2</td>\n",
       "      <td>0</td>\n",
       "      <td>1</td>\n",
       "      <td>1</td>\n",
       "      <td>Going Ahead</td>\n",
       "      <td>9</td>\n",
       "      <td>Unknown</td>\n",
       "      <td>Motorist turned left across cyclists path.</td>\n",
       "      <td>Driving Properly</td>\n",
       "      <td>0</td>\n",
       "      <td>1</td>\n",
       "      <td>0</td>\n",
       "      <td>Mar</td>\n",
       "      <td>1</td>\n",
       "    </tr>\n",
       "    <tr>\n",
       "      <th>1</th>\n",
       "      <td>2013</td>\n",
       "      <td>3</td>\n",
       "      <td>No Control</td>\n",
       "      <td>Clear</td>\n",
       "      <td>3</td>\n",
       "      <td>0</td>\n",
       "      <td>1</td>\n",
       "      <td>4</td>\n",
       "      <td>Other</td>\n",
       "      <td>9</td>\n",
       "      <td>Unknown</td>\n",
       "      <td>Unknown</td>\n",
       "      <td>Unknown</td>\n",
       "      <td>0</td>\n",
       "      <td>0</td>\n",
       "      <td>0</td>\n",
       "      <td>Apr</td>\n",
       "      <td>4</td>\n",
       "    </tr>\n",
       "    <tr>\n",
       "      <th>2</th>\n",
       "      <td>2013</td>\n",
       "      <td>3</td>\n",
       "      <td>No Control</td>\n",
       "      <td>Clear</td>\n",
       "      <td>3</td>\n",
       "      <td>0</td>\n",
       "      <td>1</td>\n",
       "      <td>4</td>\n",
       "      <td>Going Ahead</td>\n",
       "      <td>1</td>\n",
       "      <td>Normal</td>\n",
       "      <td>Unknown</td>\n",
       "      <td>Unknown</td>\n",
       "      <td>0</td>\n",
       "      <td>0</td>\n",
       "      <td>0</td>\n",
       "      <td>Apr</td>\n",
       "      <td>4</td>\n",
       "    </tr>\n",
       "    <tr>\n",
       "      <th>3</th>\n",
       "      <td>2013</td>\n",
       "      <td>3</td>\n",
       "      <td>No Control</td>\n",
       "      <td>Clear</td>\n",
       "      <td>3</td>\n",
       "      <td>0</td>\n",
       "      <td>1</td>\n",
       "      <td>3</td>\n",
       "      <td>Other</td>\n",
       "      <td>9</td>\n",
       "      <td>Unknown</td>\n",
       "      <td>Unknown</td>\n",
       "      <td>Unknown</td>\n",
       "      <td>0</td>\n",
       "      <td>0</td>\n",
       "      <td>0</td>\n",
       "      <td>Apr</td>\n",
       "      <td>4</td>\n",
       "    </tr>\n",
       "    <tr>\n",
       "      <th>4</th>\n",
       "      <td>2013</td>\n",
       "      <td>3</td>\n",
       "      <td>No Control</td>\n",
       "      <td>Clear</td>\n",
       "      <td>3</td>\n",
       "      <td>0</td>\n",
       "      <td>1</td>\n",
       "      <td>1</td>\n",
       "      <td>Going Ahead</td>\n",
       "      <td>9</td>\n",
       "      <td>Unknown</td>\n",
       "      <td>Unknown</td>\n",
       "      <td>Unknown</td>\n",
       "      <td>0</td>\n",
       "      <td>0</td>\n",
       "      <td>0</td>\n",
       "      <td>Apr</td>\n",
       "      <td>4</td>\n",
       "    </tr>\n",
       "  </tbody>\n",
       "</table>\n",
       "</div>"
      ],
      "text/plain": [
       "   YEAR  DISTRICT    TRAFFCTL VISIBILITY  LIGHT  RDSFCOND  ACCLASS  INJURY  \\\n",
       "0  2013         0  No Control      Clear      2         0        1       1   \n",
       "1  2013         3  No Control      Clear      3         0        1       4   \n",
       "2  2013         3  No Control      Clear      3         0        1       4   \n",
       "3  2013         3  No Control      Clear      3         0        1       3   \n",
       "4  2013         3  No Control      Clear      3         0        1       1   \n",
       "\n",
       "     MANOEUVER  DRIVACT DRIVCOND                                  CYCLISTYPE  \\\n",
       "0  Going Ahead        9  Unknown  Motorist turned left across cyclists path.   \n",
       "1        Other        9  Unknown                                     Unknown   \n",
       "2  Going Ahead        1   Normal                                     Unknown   \n",
       "3        Other        9  Unknown                                     Unknown   \n",
       "4  Going Ahead        9  Unknown                                     Unknown   \n",
       "\n",
       "             CYCACT  SPEEDING  AG_DRIV  ALCOHOL MONTH  ACCBYVEH  \n",
       "0  Driving Properly         0        1        0   Mar         1  \n",
       "1           Unknown         0        0        0   Apr         4  \n",
       "2           Unknown         0        0        0   Apr         4  \n",
       "3           Unknown         0        0        0   Apr         4  \n",
       "4           Unknown         0        0        0   Apr         4  "
      ]
     },
     "execution_count": 90,
     "metadata": {},
     "output_type": "execute_result"
    }
   ],
   "source": [
    "cdf.head(5)"
   ]
  },
  {
   "cell_type": "code",
   "execution_count": 91,
   "id": "4acf1aeb",
   "metadata": {},
   "outputs": [
    {
     "data": {
      "text/plain": [
       "{'Jan': 33,\n",
       " 'Feb': 35,\n",
       " 'Mar': 69,\n",
       " 'Apr': 111,\n",
       " 'May': 186,\n",
       " 'Jun': 297,\n",
       " 'Jul': 212,\n",
       " 'Aug': 221,\n",
       " 'Sep': 242,\n",
       " 'Oct': 172,\n",
       " 'Nov': 147,\n",
       " 'Dec': 54}"
      ]
     },
     "execution_count": 91,
     "metadata": {},
     "output_type": "execute_result"
    }
   ],
   "source": [
    "# Monthly TIMESERIES of DATABASE\n",
    "\n",
    "month_count = {'Jan': 0, 'Feb': 0, 'Mar': 0, 'Apr': 0, 'May': 0, 'Jun': 0, \n",
    "     'Jul': 0, 'Aug': 0, 'Sep': 0, 'Oct': 0, 'Nov': 0, 'Dec': 0\n",
    "    }\n",
    "\n",
    "size = cdf.shape[0]\n",
    "\n",
    "for i in range(size):\n",
    "    if cdf.MONTH[i] == 'Jan':\n",
    "        month_count['Jan'] += 1\n",
    "    elif cdf.MONTH[i] == 'Feb':\n",
    "        month_count['Feb'] += 1\n",
    "    elif cdf.MONTH[i] == 'Mar':\n",
    "        month_count['Mar'] += 1\n",
    "    elif cdf.MONTH[i] == 'Apr':\n",
    "        month_count['Apr'] += 1\n",
    "    elif cdf.MONTH[i] == 'May':\n",
    "        month_count['May'] += 1\n",
    "    elif cdf.MONTH[i] == 'Jun':\n",
    "        month_count['Jun'] += 1\n",
    "    elif cdf.MONTH[i] == 'Jul':\n",
    "        month_count['Jul'] += 1\n",
    "    elif cdf.MONTH[i] == 'Aug':\n",
    "        month_count['Aug'] += 1\n",
    "    elif cdf.MONTH[i] == 'Sep':\n",
    "        month_count['Sep'] += 1\n",
    "    elif cdf.MONTH[i] == 'Oct':\n",
    "        month_count['Oct'] += 1\n",
    "    elif cdf.MONTH[i] == 'Nov':\n",
    "        month_count['Nov'] += 1\n",
    "    elif cdf.MONTH[i] == 'Dec':\n",
    "        month_count['Dec'] += 1\n",
    "\n",
    "month_count"
   ]
  },
  {
   "cell_type": "code",
   "execution_count": 92,
   "id": "b0786cda",
   "metadata": {},
   "outputs": [
    {
     "data": {
      "image/png": "[encoded data removed]",
      "text/plain": [
       "<Figure size 432x288 with 1 Axes>"
      ]
     },
     "metadata": {
      "needs_background": "light"
     },
     "output_type": "display_data"
    }
   ],
   "source": [
    "# Plotting Monthly TimeSeries\n",
    "\n",
    "x = list( key for key in month_count)\n",
    "y = list( value for value in month_count.values())\n",
    "\n",
    "plt.plot(x, y, color=\"blue\", marker=\"*\")\n",
    "plt.xlabel('Months')\n",
    "plt.ylabel('No. of Cases Reported')\n",
    "plt.title('Monthly TimeSeries Plot (Total Cases: 1,779)')\n",
    "plt.show()\n"
   ]
  },
  {
   "cell_type": "code",
   "execution_count": 93,
   "id": "6dc068dc",
   "metadata": {},
   "outputs": [],
   "source": [
    "# Review Rate of Accident Yearly\n",
    "\n",
    "year_count = cdf.YEAR.value_counts(sort=True)\n",
    "x = list(set(cdf.YEAR))\n",
    "x.sort()\n",
    "\n",
    "y = list( year_count[m] for m in x)\n"
   ]
  },
  {
   "cell_type": "code",
   "execution_count": 94,
   "id": "9d9f7343",
   "metadata": {},
   "outputs": [
    {
     "data": {
      "image/png": "[encoded data removed]",
      "text/plain": [
       "<Figure size 1080x360 with 1 Axes>"
      ]
     },
     "metadata": {
      "needs_background": "light"
     },
     "output_type": "display_data"
    }
   ],
   "source": [
    "plt.figure(figsize=(15, 5))\n",
    "plt.bar(x, y, color=\"pink\")\n",
    "plt.plot(x, y, color=\"blue\")\n",
    "plt.xlabel('Years')\n",
    "plt.ylabel('No. of Accidents')\n",
    "plt.title('Yearly No. of Cases Reported')\n",
    "plt.show()\n"
   ]
  },
  {
   "cell_type": "code",
   "execution_count": 95,
   "id": "7db8b0ae",
   "metadata": {},
   "outputs": [
    {
     "name": "stdout",
     "output_type": "stream",
     "text": [
      "['AUTOMOBILE', 'MOTORCYCLE', 'TRUCK', 'TRSN_CITY_VEH', 'EMERG_VEH']\n",
      "[1478, 8, 123, 78, 5]\n"
     ]
    }
   ],
   "source": [
    "# No. of accidents by Vehicles\n",
    "\n",
    "x = list(key for key in vehDict)\n",
    "y = list(value for value in vehDict.values())\n",
    "\n",
    "print(x)\n",
    "print(y)"
   ]
  },
  {
   "cell_type": "code",
   "execution_count": 96,
   "id": "f2cba94e",
   "metadata": {},
   "outputs": [
    {
     "data": {
      "image/png": "[encoded data removed]",
      "text/plain": [
       "<Figure size 1080x360 with 1 Axes>"
      ]
     },
     "metadata": {
      "needs_background": "light"
     },
     "output_type": "display_data"
    }
   ],
   "source": [
    "plt.figure(figsize=(15, 5))\n",
    "plt.bar(x, y, color=\"red\")\n",
    "plt.xlabel('Vehicle Type')\n",
    "plt.ylabel('No. of Accidents')\n",
    "plt.title('No. of Accidents by Vehicles')\n",
    "plt.show()"
   ]
  },
  {
   "cell_type": "code",
   "execution_count": 97,
   "id": "8003725f",
   "metadata": {},
   "outputs": [
    {
     "data": {
      "text/plain": [
       "{'2006 | 147': 111,\n",
       " '2007 | 105': 81,\n",
       " '2008 | 93': 85,\n",
       " '2009 | 101': 81,\n",
       " '2010 | 109': 78,\n",
       " '2011 | 136': 107,\n",
       " '2012 | 186': 162,\n",
       " '2013 | 187': 159,\n",
       " '2014 | 113': 105,\n",
       " '2015 | 118': 98,\n",
       " '2016 | 92': 75,\n",
       " '2017 | 119': 97,\n",
       " '2018 | 96': 76,\n",
       " '2019 | 107': 103,\n",
       " '2020 | 70': 60}"
      ]
     },
     "execution_count": 97,
     "metadata": {},
     "output_type": "execute_result"
    }
   ],
   "source": [
    "# Label Encoder\n",
    "# ['AUTOMOBILE' == 1, 'MOTORCYCLE' == 3, 'TRUCK' == 5, 'TRSN_CITY_VEH' == 4, 'EMERG_VEH' == 2]\n",
    "\n",
    "# Accidents by Automobile Yearly\n",
    "automobileYearly = {'2006 | 147': 0, '2007 | 105': 0, '2008 | 93': 0, '2009 | 101': 0, '2010 | 109': 0, '2011 | 136': 0,\n",
    "                    '2012 | 186': 0, '2013 | 187': 0, '2014 | 113': 0, '2015 | 118': 0, '2016 | 92': 0,\n",
    "                    '2017 | 119': 0, '2018 | 96': 0, '2019 | 107': 0, '2020 | 70': 0}\n",
    "\n",
    "size = cdf.shape[0]\n",
    "\n",
    "for i in range(size):\n",
    "    if cdf.ACCBYVEH[i] == 1:\n",
    "        if cdf.YEAR[i] == 2006:\n",
    "            automobileYearly['2006 | 147'] += 1\n",
    "        elif cdf.YEAR[i] == 2007:\n",
    "            automobileYearly['2007 | 105'] += 1\n",
    "        elif cdf.YEAR[i] == 2008:\n",
    "            automobileYearly['2008 | 93'] += 1\n",
    "        elif cdf.YEAR[i] == 2009:\n",
    "            automobileYearly['2009 | 101'] += 1\n",
    "        elif cdf.YEAR[i] == 2010:\n",
    "            automobileYearly['2010 | 109'] += 1\n",
    "        elif cdf.YEAR[i] == 2011:\n",
    "            automobileYearly['2011 | 136'] += 1\n",
    "        elif cdf.YEAR[i] == 2012:\n",
    "            automobileYearly['2012 | 186'] += 1\n",
    "        elif cdf.YEAR[i] == 2013:\n",
    "            automobileYearly['2013 | 187'] += 1\n",
    "        elif cdf.YEAR[i] == 2014:\n",
    "            automobileYearly['2014 | 113'] += 1\n",
    "        elif cdf.YEAR[i] == 2015:\n",
    "            automobileYearly['2015 | 118'] += 1\n",
    "        elif cdf.YEAR[i] == 2016:\n",
    "            automobileYearly['2016 | 92'] += 1\n",
    "        elif cdf.YEAR[i] == 2017:\n",
    "            automobileYearly['2017 | 119'] += 1\n",
    "        elif cdf.YEAR[i] == 2018:\n",
    "            automobileYearly['2018 | 96'] += 1\n",
    "        elif cdf.YEAR[i] == 2019:\n",
    "            automobileYearly['2019 | 107'] += 1\n",
    "        elif cdf.YEAR[i] == 2020:\n",
    "            automobileYearly['2020 | 70'] += 1\n",
    "            \n",
    "automobileYearly\n"
   ]
  },
  {
   "cell_type": "code",
   "execution_count": 98,
   "id": "d5f39dab",
   "metadata": {},
   "outputs": [
    {
     "name": "stdout",
     "output_type": "stream",
     "text": [
      "['2006 | 147', '2007 | 105', '2008 | 93', '2009 | 101', '2010 | 109', '2011 | 136', '2012 | 186', '2013 | 187', '2014 | 113', '2015 | 118', '2016 | 92', '2017 | 119', '2018 | 96', '2019 | 107', '2020 | 70']\n",
      "[111, 81, 85, 81, 78, 107, 162, 159, 105, 98, 75, 97, 76, 103, 60]\n"
     ]
    }
   ],
   "source": [
    "# Accidents by Automobile Yearly\n",
    "\n",
    "x = list(key for key in automobileYearly)\n",
    "y = list(value for value in automobileYearly.values())\n",
    "\n",
    "print(x)\n",
    "print(y)"
   ]
  },
  {
   "cell_type": "code",
   "execution_count": 99,
   "id": "97a2937e",
   "metadata": {},
   "outputs": [
    {
     "data": {
      "image/png": "[encoded data removed]",
      "text/plain": [
       "<Figure size 1800x1080 with 1 Axes>"
      ]
     },
     "metadata": {
      "needs_background": "light"
     },
     "output_type": "display_data"
    }
   ],
   "source": [
    "# Accidents by Automobile Yearly\n",
    "\n",
    "plt.figure(figsize=(25, 15))\n",
    "plt.bar(x, y, color=\"blue\")\n",
    "plt.xlabel('Yearly Accidents | Total Accidents this year')\n",
    "plt.ylabel('No. of Accidents by Automobiles')\n",
    "plt.title('No. of Accidents by Automobiles in particular Year')\n",
    "\n",
    "plt.show()"
   ]
  },
  {
   "cell_type": "markdown",
   "id": "b0fac739",
   "metadata": {},
   "source": [
    "# Draw Logistic Regression \n",
    "\n",
    "## x = cdf[['DISTRICT', 'LIGHT', 'RDSFCOND', 'ALCOHOL']]\n",
    "## y = cdf.ACCLASS"
   ]
  },
  {
   "cell_type": "code",
   "execution_count": 100,
   "id": "b28ee37a",
   "metadata": {},
   "outputs": [],
   "source": [
    "from sklearn.linear_model import LogisticRegression\n",
    "from sklearn.metrics import classification_report, confusion_matrix\n",
    "from sklearn.model_selection import train_test_split"
   ]
  },
  {
   "cell_type": "code",
   "execution_count": 101,
   "id": "76fb31e9",
   "metadata": {
    "scrolled": true
   },
   "outputs": [
    {
     "data": {
      "text/html": [
       "<div>\n",
       "<style scoped>\n",
       "    .dataframe tbody tr th:only-of-type {\n",
       "        vertical-align: middle;\n",
       "    }\n",
       "\n",
       "    .dataframe tbody tr th {\n",
       "        vertical-align: top;\n",
       "    }\n",
       "\n",
       "    .dataframe thead th {\n",
       "        text-align: right;\n",
       "    }\n",
       "</style>\n",
       "<table border=\"1\" class=\"dataframe\">\n",
       "  <thead>\n",
       "    <tr style=\"text-align: right;\">\n",
       "      <th></th>\n",
       "      <th>YEAR</th>\n",
       "      <th>DISTRICT</th>\n",
       "      <th>TRAFFCTL</th>\n",
       "      <th>VISIBILITY</th>\n",
       "      <th>LIGHT</th>\n",
       "      <th>RDSFCOND</th>\n",
       "      <th>ACCLASS</th>\n",
       "      <th>INJURY</th>\n",
       "      <th>MANOEUVER</th>\n",
       "      <th>DRIVACT</th>\n",
       "      <th>DRIVCOND</th>\n",
       "      <th>CYCLISTYPE</th>\n",
       "      <th>CYCACT</th>\n",
       "      <th>SPEEDING</th>\n",
       "      <th>AG_DRIV</th>\n",
       "      <th>ALCOHOL</th>\n",
       "      <th>MONTH</th>\n",
       "      <th>ACCBYVEH</th>\n",
       "    </tr>\n",
       "  </thead>\n",
       "  <tbody>\n",
       "    <tr>\n",
       "      <th>0</th>\n",
       "      <td>2013</td>\n",
       "      <td>0</td>\n",
       "      <td>No Control</td>\n",
       "      <td>Clear</td>\n",
       "      <td>2</td>\n",
       "      <td>0</td>\n",
       "      <td>1</td>\n",
       "      <td>1</td>\n",
       "      <td>Going Ahead</td>\n",
       "      <td>9</td>\n",
       "      <td>Unknown</td>\n",
       "      <td>Motorist turned left across cyclists path.</td>\n",
       "      <td>Driving Properly</td>\n",
       "      <td>0</td>\n",
       "      <td>1</td>\n",
       "      <td>0</td>\n",
       "      <td>Mar</td>\n",
       "      <td>1</td>\n",
       "    </tr>\n",
       "    <tr>\n",
       "      <th>1</th>\n",
       "      <td>2013</td>\n",
       "      <td>3</td>\n",
       "      <td>No Control</td>\n",
       "      <td>Clear</td>\n",
       "      <td>3</td>\n",
       "      <td>0</td>\n",
       "      <td>1</td>\n",
       "      <td>4</td>\n",
       "      <td>Other</td>\n",
       "      <td>9</td>\n",
       "      <td>Unknown</td>\n",
       "      <td>Unknown</td>\n",
       "      <td>Unknown</td>\n",
       "      <td>0</td>\n",
       "      <td>0</td>\n",
       "      <td>0</td>\n",
       "      <td>Apr</td>\n",
       "      <td>4</td>\n",
       "    </tr>\n",
       "  </tbody>\n",
       "</table>\n",
       "</div>"
      ],
      "text/plain": [
       "   YEAR  DISTRICT    TRAFFCTL VISIBILITY  LIGHT  RDSFCOND  ACCLASS  INJURY  \\\n",
       "0  2013         0  No Control      Clear      2         0        1       1   \n",
       "1  2013         3  No Control      Clear      3         0        1       4   \n",
       "\n",
       "     MANOEUVER  DRIVACT DRIVCOND                                  CYCLISTYPE  \\\n",
       "0  Going Ahead        9  Unknown  Motorist turned left across cyclists path.   \n",
       "1        Other        9  Unknown                                     Unknown   \n",
       "\n",
       "             CYCACT  SPEEDING  AG_DRIV  ALCOHOL MONTH  ACCBYVEH  \n",
       "0  Driving Properly         0        1        0   Mar         1  \n",
       "1           Unknown         0        0        0   Apr         4  "
      ]
     },
     "execution_count": 101,
     "metadata": {},
     "output_type": "execute_result"
    }
   ],
   "source": [
    "cdf.head(2)"
   ]
  },
  {
   "cell_type": "code",
   "execution_count": 102,
   "id": "0eb64472",
   "metadata": {},
   "outputs": [
    {
     "name": "stdout",
     "output_type": "stream",
     "text": [
      "<class 'pandas.core.frame.DataFrame'>\n",
      "RangeIndex: 1779 entries, 0 to 1778\n",
      "Data columns (total 18 columns):\n",
      " #   Column      Non-Null Count  Dtype \n",
      "---  ------      --------------  ----- \n",
      " 0   YEAR        1779 non-null   int64 \n",
      " 1   DISTRICT    1779 non-null   int32 \n",
      " 2   TRAFFCTL    1779 non-null   object\n",
      " 3   VISIBILITY  1779 non-null   object\n",
      " 4   LIGHT       1779 non-null   int32 \n",
      " 5   RDSFCOND    1779 non-null   int32 \n",
      " 6   ACCLASS     1779 non-null   int32 \n",
      " 7   INJURY      1779 non-null   int32 \n",
      " 8   MANOEUVER   1779 non-null   object\n",
      " 9   DRIVACT     1779 non-null   int32 \n",
      " 10  DRIVCOND    1779 non-null   object\n",
      " 11  CYCLISTYPE  1779 non-null   object\n",
      " 12  CYCACT      1779 non-null   object\n",
      " 13  SPEEDING    1779 non-null   int32 \n",
      " 14  AG_DRIV     1779 non-null   int32 \n",
      " 15  ALCOHOL     1779 non-null   int32 \n",
      " 16  MONTH       1779 non-null   object\n",
      " 17  ACCBYVEH    1779 non-null   int32 \n",
      "dtypes: int32(10), int64(1), object(7)\n",
      "memory usage: 180.8+ KB\n"
     ]
    }
   ],
   "source": [
    "cdf.info()"
   ]
  },
  {
   "cell_type": "code",
   "execution_count": 103,
   "id": "1e17e900",
   "metadata": {},
   "outputs": [],
   "source": [
    "size = cdf.shape[0]\n",
    "indexes = []\n",
    "for i in range(size):\n",
    "    if not (cdf.ACCBYVEH[i] == 1):\n",
    "        indexes.append(i)\n"
   ]
  },
  {
   "cell_type": "code",
   "execution_count": 104,
   "id": "a4f33e9e",
   "metadata": {},
   "outputs": [],
   "source": [
    "# Drop rows who contain Collision data without Automobile\n",
    "cdf = cdf.drop(labels = indexes, axis = 0)"
   ]
  },
  {
   "cell_type": "code",
   "execution_count": 105,
   "id": "f3b0cb8e",
   "metadata": {},
   "outputs": [],
   "source": [
    "# Creating X and Y variable  data\n",
    "x = cdf[['DISTRICT', 'LIGHT', 'RDSFCOND', 'ALCOHOL']]\n",
    "y = cdf.ACCLASS"
   ]
  },
  {
   "cell_type": "code",
   "execution_count": 1,
   "id": "ec2bfa2f",
   "metadata": {},
   "outputs": [
    {
     "ename": "NameError",
     "evalue": "name 'train_test_split' is not defined",
     "output_type": "error",
     "traceback": [
      "\u001b[1;31m---------------------------------------------------------------------------\u001b[0m",
      "\u001b[1;31mNameError\u001b[0m                                 Traceback (most recent call last)",
      "\u001b[1;32m~\\AppData\\Local\\Temp/ipykernel_17112/3339451552.py\u001b[0m in \u001b[0;36m<module>\u001b[1;34m\u001b[0m\n\u001b[0;32m      1\u001b[0m \u001b[1;31m# Spliting data for Training and Testing\u001b[0m\u001b[1;33m\u001b[0m\u001b[1;33m\u001b[0m\u001b[1;33m\u001b[0m\u001b[0m\n\u001b[1;32m----> 2\u001b[1;33m \u001b[0mx_train\u001b[0m\u001b[1;33m,\u001b[0m \u001b[0mx_test\u001b[0m\u001b[1;33m,\u001b[0m \u001b[0my_train\u001b[0m\u001b[1;33m,\u001b[0m \u001b[0my_test\u001b[0m \u001b[1;33m=\u001b[0m \u001b[0mtrain_test_split\u001b[0m\u001b[1;33m(\u001b[0m\u001b[0mx\u001b[0m\u001b[1;33m,\u001b[0m \u001b[0my\u001b[0m\u001b[1;33m,\u001b[0m \u001b[0mtrain_size\u001b[0m\u001b[1;33m=\u001b[0m\u001b[1;36m0.8\u001b[0m\u001b[1;33m,\u001b[0m \u001b[0mrandom_state\u001b[0m\u001b[1;33m=\u001b[0m\u001b[1;36m42\u001b[0m\u001b[1;33m)\u001b[0m\u001b[1;33m\u001b[0m\u001b[1;33m\u001b[0m\u001b[0m\n\u001b[0m",
      "\u001b[1;31mNameError\u001b[0m: name 'train_test_split' is not defined"
     ]
    }
   ],
   "source": [
    "# Spliting data for Training and Testing\n",
    "x_train, x_test, y_train, y_test = train_test_split(x, y, train_size=0.6, random_state=42)"
   ]
  },
  {
   "cell_type": "code",
   "execution_count": 107,
   "id": "7255ee82",
   "metadata": {},
   "outputs": [
    {
     "data": {
      "text/plain": [
       "LogisticRegression()"
      ]
     },
     "execution_count": 107,
     "metadata": {},
     "output_type": "execute_result"
    }
   ],
   "source": [
    "# Modeling for Logistic Regression\n",
    "# Training Logistic Regression model\n",
    "modelLR = LogisticRegression()\n",
    "modelLR.fit(x_train, y_train)"
   ]
  },
  {
   "cell_type": "code",
   "execution_count": 108,
   "id": "9df82d60",
   "metadata": {},
   "outputs": [
    {
     "data": {
      "text/plain": [
       "0.9611486486486487"
      ]
     },
     "execution_count": 108,
     "metadata": {},
     "output_type": "execute_result"
    }
   ],
   "source": [
    "modelLR.score(x_test, y_test)"
   ]
  },
  {
   "cell_type": "code",
   "execution_count": 109,
   "id": "211b3c00",
   "metadata": {},
   "outputs": [
    {
     "data": {
      "text/plain": [
       "array([1, 1, 1, 1, 1, 1, 1, 1, 1, 1, 1, 1, 1, 1, 1, 1, 1, 1, 1, 1, 1, 1,\n",
       "       1, 1, 1, 1, 1, 1, 1, 1, 1, 1, 1, 1, 1, 1, 1, 1, 1, 1, 1, 1, 1, 1,\n",
       "       1, 1, 1, 1, 1, 1, 1, 1, 1, 1, 1, 1, 1, 1, 1, 1, 1, 1, 1, 1, 1, 1,\n",
       "       1, 1, 1, 1, 1, 1, 1, 1, 1, 1, 1, 1, 1, 1, 1, 1, 1, 1, 1, 1, 1, 1,\n",
       "       1, 1, 1, 1, 1, 1, 1, 1, 1, 1, 1, 1, 1, 1, 1, 1, 1, 1, 1, 1, 1, 1,\n",
       "       1, 1, 1, 1, 1, 1, 1, 1, 1, 1, 1, 1, 1, 1, 0, 1, 1, 1, 1, 1, 1, 1,\n",
       "       1, 1, 1, 1, 1, 1, 1, 1, 1, 1, 1, 1, 1, 1, 1, 1, 1, 1, 1, 1, 1, 1,\n",
       "       1, 1, 1, 1, 1, 1, 1, 1, 1, 1, 1, 1, 1, 1, 1, 1, 1, 1, 1, 1, 1, 1,\n",
       "       1, 1, 1, 1, 1, 1, 1, 1, 1, 1, 1, 1, 1, 1, 1, 1, 1, 1, 1, 1, 1, 1,\n",
       "       1, 1, 1, 1, 1, 1, 1, 1, 1, 1, 1, 1, 1, 1, 1, 1, 1, 1, 1, 1, 1, 1,\n",
       "       1, 1, 1, 1, 1, 1, 1, 1, 1, 1, 1, 1, 1, 1, 1, 1, 1, 1, 1, 1, 1, 1,\n",
       "       1, 1, 1, 1, 1, 1, 1, 1, 1, 1, 1, 1, 1, 1, 1, 1, 1, 1, 1, 1, 1, 1,\n",
       "       1, 1, 1, 1, 1, 1, 1, 1, 1, 1, 1, 1, 1, 1, 1, 1, 1, 1, 1, 1, 1, 1,\n",
       "       1, 1, 1, 1, 1, 1, 1, 1, 1, 1, 1, 1, 1, 1, 1, 1, 1, 1, 1, 1, 1, 1,\n",
       "       1, 1, 1, 1, 1, 1, 1, 1, 1, 1, 1, 1, 1, 1, 1, 1, 1, 1, 1, 1, 1, 1,\n",
       "       1, 1, 1, 1, 1, 1, 1, 1, 1, 1, 1, 1, 1, 1, 1, 1, 1, 1, 1, 1, 1, 1,\n",
       "       1, 1, 1, 1, 1, 1, 1, 1, 1, 1, 1, 1, 1, 1, 1, 1, 1, 1, 1, 1, 1, 1,\n",
       "       1, 1, 1, 1, 1, 1, 1, 1, 1, 1, 1, 1, 1, 1, 1, 1, 1, 1, 1, 1, 1, 1,\n",
       "       1, 1, 1, 1, 1, 1, 1, 1, 1, 1, 1, 1, 1, 1, 1, 1, 1, 1, 1, 1, 1, 1,\n",
       "       1, 1, 1, 1, 1, 1, 1, 1, 1, 1, 1, 1, 1, 1, 1, 1, 1, 1, 1, 1, 1, 1,\n",
       "       1, 1, 1, 1, 1, 1, 1, 1, 1, 1, 1, 1, 1, 1, 1, 1, 1, 1, 1, 1, 1, 1,\n",
       "       1, 1, 1, 1, 1, 1, 1, 1, 1, 1, 1, 1, 1, 1, 1, 1, 1, 1, 1, 1, 1, 1,\n",
       "       1, 1, 1, 1, 1, 1, 1, 1, 1, 1, 1, 1, 1, 1, 1, 1, 1, 1, 1, 1, 1, 1,\n",
       "       1, 1, 1, 1, 1, 1, 1, 1, 1, 1, 1, 1, 1, 1, 1, 1, 1, 1, 1, 1, 1, 0,\n",
       "       1, 1, 1, 1, 1, 1, 1, 1, 1, 1, 1, 1, 1, 1, 1, 1, 1, 0, 1, 1, 1, 1,\n",
       "       1, 1, 1, 1, 1, 1, 1, 1, 1, 1, 1, 1, 1, 1, 1, 1, 1, 1, 1, 1, 1, 1,\n",
       "       1, 1, 1, 1, 1, 1, 1, 1, 1, 1, 1, 1, 1, 1, 1, 1, 1, 1, 1, 1])"
      ]
     },
     "execution_count": 109,
     "metadata": {},
     "output_type": "execute_result"
    }
   ],
   "source": [
    "modelLR.predict(x_test)"
   ]
  },
  {
   "cell_type": "markdown",
   "id": "5e37e4d0",
   "metadata": {},
   "source": [
    "# Decision Trees (CART)"
   ]
  },
  {
   "cell_type": "code",
   "execution_count": 112,
   "id": "04230af8",
   "metadata": {},
   "outputs": [],
   "source": [
    "from sklearn.tree import DecisionTreeClassifier"
   ]
  },
  {
   "cell_type": "code",
   "execution_count": 113,
   "id": "e11295dc",
   "metadata": {},
   "outputs": [],
   "source": [
    "modelDT = DecisionTreeClassifier(criterion = 'gini')"
   ]
  },
  {
   "cell_type": "code",
   "execution_count": 114,
   "id": "74c847cd",
   "metadata": {},
   "outputs": [
    {
     "data": {
      "text/plain": [
       "DecisionTreeClassifier()"
      ]
     },
     "execution_count": 114,
     "metadata": {},
     "output_type": "execute_result"
    }
   ],
   "source": [
    "modelDT.fit(x_train, y_train)"
   ]
  },
  {
   "cell_type": "code",
   "execution_count": 160,
   "id": "2a7d0284",
   "metadata": {},
   "outputs": [
    {
     "data": {
      "text/plain": [
       "0.9611486486486487"
      ]
     },
     "execution_count": 160,
     "metadata": {},
     "output_type": "execute_result"
    }
   ],
   "source": [
    "modelDT.score(x_test, y_test)"
   ]
  },
  {
   "cell_type": "code",
   "execution_count": 115,
   "id": "8d558f27",
   "metadata": {},
   "outputs": [
    {
     "data": {
      "text/plain": [
       "array([1, 1, 1, 1, 1, 1, 1, 1, 1, 1, 1, 1, 1, 1, 1, 1, 1, 1, 1, 1, 1, 1,\n",
       "       1, 1, 1, 1, 1, 1, 1, 1, 1, 1, 1, 1, 1, 1, 1, 1, 1, 1, 1, 1, 1, 1,\n",
       "       1, 1, 1, 1, 1, 1, 1, 1, 1, 1, 1, 1, 1, 1, 1, 1, 1, 1, 1, 1, 1, 1,\n",
       "       1, 1, 1, 1, 1, 1, 1, 1, 1, 1, 1, 1, 1, 1, 1, 1, 1, 1, 1, 1, 1, 1,\n",
       "       1, 1, 1, 1, 1, 1, 1, 1, 1, 1, 1, 1, 1, 1, 1, 1, 1, 1, 1, 1, 1, 1,\n",
       "       1, 1, 1, 1, 1, 1, 1, 1, 1, 1, 1, 1, 1, 1, 0, 1, 1, 1, 1, 1, 1, 1,\n",
       "       1, 1, 1, 1, 1, 1, 1, 1, 1, 1, 1, 1, 1, 1, 1, 1, 1, 1, 1, 1, 1, 1,\n",
       "       1, 1, 1, 1, 1, 1, 1, 1, 1, 1, 1, 1, 1, 1, 1, 1, 1, 1, 1, 1, 1, 1,\n",
       "       1, 1, 1, 1, 1, 1, 1, 1, 1, 1, 1, 1, 1, 1, 1, 1, 1, 1, 1, 1, 1, 1,\n",
       "       1, 1, 1, 1, 1, 1, 1, 1, 1, 1, 1, 1, 1, 1, 1, 1, 1, 1, 1, 1, 1, 1,\n",
       "       1, 1, 1, 1, 1, 1, 1, 1, 1, 1, 1, 1, 1, 1, 1, 1, 1, 1, 1, 1, 1, 1,\n",
       "       1, 1, 1, 1, 1, 1, 1, 1, 1, 1, 1, 1, 1, 1, 1, 1, 1, 1, 1, 1, 1, 1,\n",
       "       1, 1, 1, 1, 1, 1, 1, 1, 1, 1, 1, 1, 1, 1, 1, 1, 1, 1, 1, 1, 1, 1,\n",
       "       1, 1, 1, 1, 1, 1, 1, 1, 1, 1, 1, 1, 1, 1, 1, 1, 1, 1, 1, 1, 1, 1,\n",
       "       1, 1, 1, 1, 1, 1, 1, 1, 1, 1, 1, 1, 1, 1, 1, 1, 1, 1, 1, 1, 1, 1,\n",
       "       1, 1, 1, 1, 1, 1, 1, 1, 1, 1, 1, 1, 1, 1, 1, 1, 1, 1, 1, 1, 1, 1,\n",
       "       1, 1, 1, 1, 1, 1, 1, 1, 1, 1, 1, 1, 1, 1, 1, 1, 1, 1, 1, 1, 1, 1,\n",
       "       1, 1, 1, 1, 1, 1, 1, 1, 1, 1, 1, 1, 1, 1, 1, 1, 1, 1, 1, 1, 1, 1,\n",
       "       1, 1, 1, 1, 1, 1, 1, 1, 1, 1, 1, 1, 1, 1, 1, 1, 1, 1, 1, 1, 1, 1,\n",
       "       1, 1, 1, 1, 1, 1, 1, 1, 1, 1, 1, 1, 1, 1, 1, 1, 1, 1, 1, 1, 1, 1,\n",
       "       1, 1, 1, 1, 1, 1, 1, 1, 1, 1, 1, 1, 1, 1, 1, 1, 1, 1, 1, 1, 1, 1,\n",
       "       1, 1, 1, 1, 1, 1, 1, 1, 1, 1, 1, 1, 1, 1, 1, 1, 1, 1, 1, 1, 1, 1,\n",
       "       1, 1, 1, 1, 1, 1, 1, 1, 1, 1, 1, 1, 1, 1, 1, 1, 1, 1, 1, 1, 1, 1,\n",
       "       1, 1, 1, 1, 1, 1, 1, 1, 1, 1, 1, 1, 1, 1, 1, 1, 1, 1, 1, 1, 1, 0,\n",
       "       1, 1, 1, 1, 1, 1, 1, 1, 1, 1, 1, 1, 1, 1, 1, 1, 1, 0, 1, 1, 1, 1,\n",
       "       1, 1, 1, 1, 1, 1, 1, 1, 1, 1, 1, 1, 1, 1, 1, 1, 1, 1, 1, 1, 1, 1,\n",
       "       1, 1, 1, 1, 1, 1, 1, 1, 1, 1, 1, 1, 1, 1, 1, 1, 1, 1, 1, 1])"
      ]
     },
     "execution_count": 115,
     "metadata": {},
     "output_type": "execute_result"
    }
   ],
   "source": [
    "modelDT.predict(x_test)"
   ]
  },
  {
   "cell_type": "markdown",
   "id": "ad4050fd",
   "metadata": {},
   "source": [
    "# Predict Values"
   ]
  },
  {
   "cell_type": "code",
   "execution_count": 117,
   "id": "ff38f596",
   "metadata": {},
   "outputs": [],
   "source": [
    "#DISTRICT: 'Etobicoke York' == 0 || 'Toronto and East York' == 3 || 'Scarborough' == 2 || 'North York' == 1\n",
    "#LIGHT:    'Daylight' == 2 || 'Dusk' == 3 || 'Dark' == 0 || 'Dawn' == 1\n",
    "#RDSFCOND  'Dry' == 0 || 'Wet' == 3 || 'Loose Snow' == 1 || 'Other' == 2\n",
    "#ALCOHOL    Yes = 1, No = 0\n",
    "\n",
    "#ACCLASS    'Non-Fatal Injury' == 1 || 'Fatal' == 0"
   ]
  },
  {
   "cell_type": "code",
   "execution_count": 162,
   "id": "cacc93b2",
   "metadata": {},
   "outputs": [
    {
     "data": {
      "text/plain": [
       "('Predicting Logistic Regression Model:', array([1]))"
      ]
     },
     "execution_count": 162,
     "metadata": {},
     "output_type": "execute_result"
    }
   ],
   "source": [
    "# Predicting Logistic Regression Model\n",
    "\"Predicting Logistic Regression Model:\", modelLR.predict([[2, 1, 1, 0]])"
   ]
  },
  {
   "cell_type": "code",
   "execution_count": 161,
   "id": "a91b32ee",
   "metadata": {},
   "outputs": [
    {
     "data": {
      "text/plain": [
       "('Predicting Decission Tree Model:', array([0]))"
      ]
     },
     "execution_count": 161,
     "metadata": {},
     "output_type": "execute_result"
    }
   ],
   "source": [
    "# Predicting Decision Tree Model\n",
    "\"Predicting Decission Tree Model:\", modelDT.predict([[2, 1, 0, 1]])"
   ]
  },
  {
   "cell_type": "code",
   "execution_count": 122,
   "id": "1a46975a",
   "metadata": {},
   "outputs": [],
   "source": [
    "# Both models are predicting same result as they are having same score and are able to predict the at 96%"
   ]
  },
  {
   "cell_type": "markdown",
   "id": "ed41c6c3",
   "metadata": {},
   "source": [
    "# MODEL EVALUATIONS"
   ]
  },
  {
   "cell_type": "markdown",
   "id": "d03a7b52",
   "metadata": {},
   "source": [
    "### CONFUSION MATRIX"
   ]
  },
  {
   "cell_type": "code",
   "execution_count": 123,
   "id": "b44bdc54",
   "metadata": {},
   "outputs": [],
   "source": [
    "from sklearn.metrics import confusion_matrix\n",
    "from sklearn.metrics import classification_report"
   ]
  },
  {
   "cell_type": "code",
   "execution_count": 126,
   "id": "32888563",
   "metadata": {},
   "outputs": [
    {
     "data": {
      "text/plain": [
       "array([[566,   0],\n",
       "       [ 23,   3]], dtype=int64)"
      ]
     },
     "execution_count": 126,
     "metadata": {},
     "output_type": "execute_result"
    }
   ],
   "source": [
    "# Confusion Matrix for Logistic Regression Model\n",
    "matrixLR = confusion_matrix(y_test, modelLR.predict(x_test), labels=[1,0])\n",
    "matrixLR"
   ]
  },
  {
   "cell_type": "code",
   "execution_count": 127,
   "id": "08720ba3",
   "metadata": {},
   "outputs": [
    {
     "data": {
      "text/plain": [
       "(566, 0, 23, 3)"
      ]
     },
     "execution_count": 127,
     "metadata": {},
     "output_type": "execute_result"
    }
   ],
   "source": [
    "a = matrixLR[0][0]\n",
    "b = matrixLR[0][1]\n",
    "c = matrixLR[1][0]\n",
    "d = matrixLR[1][1]\n",
    "\n",
    "a, b, c, d"
   ]
  },
  {
   "cell_type": "code",
   "execution_count": 128,
   "id": "462a1d07",
   "metadata": {},
   "outputs": [
    {
     "data": {
      "text/plain": [
       "('Logistic Regression Accuracy:', 0.9611486486486487)"
      ]
     },
     "execution_count": 128,
     "metadata": {},
     "output_type": "execute_result"
    }
   ],
   "source": [
    "# Accuracy of Logistic Regression\n",
    "accuracyLR = (a + d) / (a + b + c + d)\n",
    "'Logistic Regression Accuracy:', accuracyLR"
   ]
  },
  {
   "cell_type": "code",
   "execution_count": 129,
   "id": "779daf9a",
   "metadata": {},
   "outputs": [
    {
     "data": {
      "text/plain": [
       "array([[566,   0],\n",
       "       [ 23,   3]], dtype=int64)"
      ]
     },
     "execution_count": 129,
     "metadata": {},
     "output_type": "execute_result"
    }
   ],
   "source": [
    "# Confusion Matrix for Decission Tree Model\n",
    "matrixDT = confusion_matrix(y_test, modelDT.predict(x_test), labels=[1,0])\n",
    "matrixDT"
   ]
  },
  {
   "cell_type": "code",
   "execution_count": 130,
   "id": "712cfb27",
   "metadata": {},
   "outputs": [
    {
     "data": {
      "text/plain": [
       "(566, 0, 23, 3)"
      ]
     },
     "execution_count": 130,
     "metadata": {},
     "output_type": "execute_result"
    }
   ],
   "source": [
    "a = matrixLR[0][0]\n",
    "b = matrixLR[0][1]\n",
    "c = matrixLR[1][0]\n",
    "d = matrixLR[1][1]\n",
    "\n",
    "a, b, c, d"
   ]
  },
  {
   "cell_type": "code",
   "execution_count": 131,
   "id": "1214b6ff",
   "metadata": {},
   "outputs": [
    {
     "data": {
      "text/plain": [
       "('Decission Tree Accuracy:', 0.9611486486486487)"
      ]
     },
     "execution_count": 131,
     "metadata": {},
     "output_type": "execute_result"
    }
   ],
   "source": [
    "# Accuracy of Decission Tree Model\n",
    "accuracyDT = (a + d) / (a + b + c + d)\n",
    "'Decission Tree Accuracy:', accuracyDT"
   ]
  },
  {
   "cell_type": "markdown",
   "id": "9b37036b",
   "metadata": {},
   "source": [
    "# MSE and RMSE Evaluation"
   ]
  },
  {
   "cell_type": "code",
   "execution_count": 132,
   "id": "6b7eb705",
   "metadata": {},
   "outputs": [],
   "source": [
    "from sklearn.metrics import mean_squared_error\n",
    "import math"
   ]
  },
  {
   "cell_type": "code",
   "execution_count": 133,
   "id": "56c3484d",
   "metadata": {},
   "outputs": [
    {
     "data": {
      "text/plain": [
       "('Logistic Regression MSE:', 0.03885135135135135)"
      ]
     },
     "execution_count": 133,
     "metadata": {},
     "output_type": "execute_result"
    }
   ],
   "source": [
    "mseLG = mean_squared_error(y_test, modelLR.predict(x_test))\n",
    "'Logistic Regression MSE:', mseLG"
   ]
  },
  {
   "cell_type": "code",
   "execution_count": 134,
   "id": "136b457b",
   "metadata": {},
   "outputs": [
    {
     "data": {
      "text/plain": [
       "('Logistic Regression RMSE:', 0.19710746142993002)"
      ]
     },
     "execution_count": 134,
     "metadata": {},
     "output_type": "execute_result"
    }
   ],
   "source": [
    "rmseLG = math.sqrt(mseLG)\n",
    "'Logistic Regression RMSE:', rmseLG"
   ]
  },
  {
   "cell_type": "code",
   "execution_count": 135,
   "id": "69a183f4",
   "metadata": {},
   "outputs": [
    {
     "data": {
      "text/plain": [
       "('Decission Tree MSE:', 0.03885135135135135)"
      ]
     },
     "execution_count": 135,
     "metadata": {},
     "output_type": "execute_result"
    }
   ],
   "source": [
    "mseDT = mean_squared_error(y_test, modelDT.predict(x_test))\n",
    "'Decission Tree MSE:', mseDT"
   ]
  },
  {
   "cell_type": "code",
   "execution_count": 136,
   "id": "494727ad",
   "metadata": {},
   "outputs": [
    {
     "data": {
      "text/plain": [
       "('Decission Tree RMSE:', 0.19710746142993002)"
      ]
     },
     "execution_count": 136,
     "metadata": {},
     "output_type": "execute_result"
    }
   ],
   "source": [
    "rmseDT = math.sqrt(mseDT)\n",
    "'Decission Tree RMSE:', rmseDT"
   ]
  },
  {
   "cell_type": "markdown",
   "id": "00ea6aea",
   "metadata": {},
   "source": [
    "# Other Analysis"
   ]
  },
  {
   "cell_type": "code",
   "execution_count": 144,
   "id": "318ecc40",
   "metadata": {},
   "outputs": [
    {
     "data": {
      "image/png": "[encoded data removed]",
      "text/plain": [
       "<Figure size 432x288 with 1 Axes>"
      ]
     },
     "metadata": {
      "needs_background": "light"
     },
     "output_type": "display_data"
    }
   ],
   "source": [
    "# Fatal Cases Yearly\n",
    "\n",
    "_Years = {2006: 0, 2007: 0, 2008: 0, 2009: 0, 2010: 0, 2011: 0, 2012: 0, 2013: 0, 2014: 0, 2015: 0, 2016: 0, \n",
    "          2017: 0, 2018: 0, 2019: 0, 2020: 0}\n",
    "\n",
    "for i in range(df2.shape[0]):\n",
    "    if df2.YEAR[i] in _Years:\n",
    "        if df2.ACCLASS[i] == 'Fatal':\n",
    "            _Years[df2.YEAR[i]] += 1\n",
    "    \n",
    "_X = list(key for key in _Years)\n",
    "_Y = list( value for value in _Years.values())\n",
    "\n",
    "# plotting the points \n",
    "plt.plot(_X, _Y)\n",
    "plt.scatter(_X, _Y, label= \"Fatal\", color= \"green\", \n",
    "            marker= \"*\", s=30)\n",
    "# naming the x axis\n",
    "plt.xlabel('x - axis')\n",
    "# naming the y axis\n",
    "plt.ylabel('y - axis')\n",
    "\n",
    "# giving a title to my graph\n",
    "plt.title('Year Wise Fatal Cases')\n",
    "\n",
    "# function to show the plot\n",
    "plt.show()"
   ]
  },
  {
   "cell_type": "code",
   "execution_count": 159,
   "id": "fde62f59",
   "metadata": {},
   "outputs": [
    {
     "data": {
      "image/png": "[encoded data removed]",
      "text/plain": [
       "<Figure size 432x288 with 1 Axes>"
      ]
     },
     "metadata": {
      "needs_background": "light"
     },
     "output_type": "display_data"
    }
   ],
   "source": [
    "df2['CASESNUMBER'] = 1\n",
    "\n",
    "z = df2.groupby('RDSFCOND').agg('sum')\n",
    "_X = []\n",
    "_Y = []\n",
    "\n",
    "for i in range(z.shape[0]):\n",
    "    _X.append(z.index[i])\n",
    "    _Y.append(z.CASESNUMBER[i])\n",
    "\n",
    "\n",
    "# plotting the points \n",
    "plt.plot(_X, _Y)\n",
    "  \n",
    "# naming the x axis\n",
    "plt.xlabel('Road Condition')\n",
    "# naming the y axis\n",
    "plt.ylabel('# of Collisions')\n",
    "  \n",
    "# giving a title to my graph\n",
    "plt.title('Road Condition and Collision Numbers')\n",
    "# function to show the plot\n",
    "plt.show()"
   ]
  },
  {
   "cell_type": "code",
   "execution_count": null,
   "id": "7c310997",
   "metadata": {},
   "outputs": [],
   "source": []
  },
  {
   "cell_type": "code",
   "execution_count": null,
   "id": "7eb7e027",
   "metadata": {},
   "outputs": [],
   "source": []
  }
 ],
 "metadata": {
  "kernelspec": {
   "display_name": "Python 3 (ipykernel)",
   "language": "python",
   "name": "python3"
  },
  "language_info": {
   "codemirror_mode": {
    "name": "ipython",
    "version": 3
   },
   "file_extension": ".py",
   "mimetype": "text/x-python",
   "name": "python",
   "nbconvert_exporter": "python",
   "pygments_lexer": "ipython3",
   "version": "3.8.8"
  }
 },
 "nbformat": 4,
 "nbformat_minor": 5
}
